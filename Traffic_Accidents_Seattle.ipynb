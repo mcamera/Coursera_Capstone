{
    "cells": [
        {
            "cell_type": "markdown",
            "metadata": {
                "collapsed": true
            },
            "source": "# A DATA ANALYSIS OF TRAFFIC ACCIDENTS IN SEATTLE, WA\n### Applied Data Science Capstone for the IBM Data Science Profissional Certificate/Coursera\n\nAuthor: Marcelo Camera Oliveira\n"
        },
        {
            "cell_type": "markdown",
            "metadata": {},
            "source": "## Table of contents\n* [1 - Business Understanding](#intro)\n* [2 - The Dataset](#dataset)\n* [3 - Methodology](#methodology)\n* [4 - Analysis](#analysis)\n* [5 - Results and Discussion](#results)\n* [6 - Conclusion](#final)"
        },
        {
            "cell_type": "markdown",
            "metadata": {},
            "source": "## 1. Business Understanding  <a name=\"intro\"></a>"
        },
        {
            "cell_type": "markdown",
            "metadata": {},
            "source": "The increasing number of cars on the roads brings with it a worrying reality: the increase of the accident rate. Such accidents cause enormous consequences, the most important of which, of a human nature, is the loss of life. Other effects appear in the ride of this reality, one of which is the financial loss, due to the long traffic jams and roadblocks, which have a negative impact on the logistics of goods.\n\nIn parallel, it is necessary to contextualize the importance of Information and Communication Technology (ICT) in solving urban problems. Given the worldwide technological advancement, cities are becoming increasingly \u201csmart\u201d. The terminology \"Smart Cities\" basically goes back to the concept of a city that makes use of ICT, through various physical devices connected to the IoT (Internet of Things) network, in order to optimize its operations and services, in addition to connecting citizens.\n\nFaced with such a problem, it is suggested the development of a mathematical model that, in view of the knowledge of initial situations, a risk classification should be carried out. From this perspective, given the driver's entry into a certain road, he is given knowledge of the degree of risk to which he will be subject and, thus, the necessary preventive measures can be taken, such as: changing his route, reducing the car speed, or increasing your attention.\n\nThus, having the knowledge of historical accident data in a given location and the creation of a mathematical model based on this data, a city could use this tool to implement data capture devices (rain, traffic, object recognition on the roads) with the purpose of issuing alerts to the drivers (electronic boards, mobile phone applications, among others).\n\nThis project aims to inform Seattle city drivers (audience) about the conditions of the road he will be joining. In this way, he will be able to analyze the situation in order to take the necessary preventive measures."
        },
        {
            "cell_type": "markdown",
            "metadata": {},
            "source": "## 2. The Dataset <a name=\"dataset\"></a>"
        },
        {
            "cell_type": "markdown",
            "metadata": {},
            "source": "To understand the problem, we will use the data indicated by Coursera as data source for this project. This data contains several records of accidents with vehicles in the city of Seattle, USA, from 2004 to the present.\n\nThe dataset has 194.673 registers and 38 columns (target variable, features and uninteresting data), but we won't use all of these attributes.\n\nAnalyzing the available data dictionary, with focus on the problem, we could see wich features we will really necessary. Are they:\n\n| ATTRIBUTE | DESCRIPTION |\n| :---: | :---: |\n| `SEVERITYCODE` | Target variable. Severity of the collision (3\u2014fatality, 2b\u2014serious injury, 2\u2014injury, 1\u2014prop damage, 0\u2014unknown); |\n| `SEVERITYDESC` | A detailed description of the severity of the collision |\n| `X` | Longitude - Geographic coordinate; |\n| `Y` | Latitude - Geographic coordinate; |\n| `ADDRTYPE` | Collision address type: Alley, Block or Intersection; |\n| `COLLISIONTYPE` | Collision type; |\n| `PERSONCOUNT` | The total number of people involved in the collision; |\n| `PEDCOUNT` | The number of pedestrians involved in the collision; |\n| `PEDCYLCOUNT` | The number of bicycles involved in the collision; |\n| `VEHCOUNT` | The number of vehicles involved in the collision; |\n| `INCDTTM` | The date and time of the incident; |\n| `JUNCTIONTYPE` | Category of junction at which collision took place; |\n| `INATTENTIONIND` | Whether or not collision was due to inattention; |\n| `UNDERINFL` | Whether or not a driver involved was under the influence of drugs or alcohol; |\n| `WEATHER` | A description of the weather conditions during the time of the collision; |\n| `ROADCOND` | The condition of the road during the collision; |\n| `LIGHTCOND` | The light conditions during the collision; |\n| `SPEEDING` | Whether or not speeding was a factor in the collision. |\n\nThe complete metadata for the data source can be found via [this link.](https://s3.us.cloud-object-storage.appdomain.cloud/cf-courses-data/CognitiveClass/DP0701EN/version-2/Metadata.pdf)"
        },
        {
            "cell_type": "markdown",
            "metadata": {},
            "source": "## 3. Methodology <a name=\"methodology\"></a>"
        },
        {
            "cell_type": "markdown",
            "metadata": {},
            "source": "This is the main section of the project. Here, we will cover and describe the exploratory data analysis, inferential statistical testing and what machine learnings were used and why.\n\nWe will use the Cross-Industry Standard Process for Data Mining (CRISP-DM) which consist of the following steps:\n\n1. **Business Understanding:** The initial phase is to understand the project's objective from the business or application perspective. We talked about it in section 1 of this project.\n\n1. **Data understanding:** In this phase, we will download the dataset and filter the attributes (columns) that we will use, as we discused on the section 2.\n\n1. **Data Preparation:** The data preparation includes all the required activities to construct the final dataset which will be fed into the modeling tools. Data preparation includes balancing the labeled data, transformation, filling missing data, and cleaning the dataset.\n\n1. **Modeling:** In this phase, various algorithms and methods will be tested to build the model including supervised machine learning techniques. \n\n1. **Evaluation:** Before proceeding to the deployment stage, the model needs to be evaluated thoroughly to ensure that the business or the application's objectives are achieved. Certain metrics can be used for the model evaluation such as accuracy, recall, F1-score, precision, and others.\n\n1. **Deployment:** The deployment phase requirements vary from project to project. It can be as simple as creating a report, developing interactive visualization, or making the machine learning model available in the production environment. **This step is out of scope of this project.**"
        },
        {
            "cell_type": "markdown",
            "metadata": {},
            "source": "### 3.1 Data Preparation"
        },
        {
            "cell_type": "markdown",
            "metadata": {},
            "source": "#### 3.1.1 Importing and loading the data to a dataframe"
        },
        {
            "cell_type": "markdown",
            "metadata": {},
            "source": "Let's import the dataset with the attributes chosen on the section 2."
        },
        {
            "cell_type": "code",
            "execution_count": 181,
            "metadata": {},
            "outputs": [],
            "source": "import pandas as pd\nimport seaborn as sns\nimport matplotlib.pyplot as plt"
        },
        {
            "cell_type": "code",
            "execution_count": 182,
            "metadata": {},
            "outputs": [
                {
                    "name": "stdout",
                    "output_type": "stream",
                    "text": "--2020-11-10 01:22:17--  https://s3.us.cloud-object-storage.appdomain.cloud/cf-courses-data/CognitiveClass/DP0701EN/version-2/Data-Collisions.csv\nResolving s3.us.cloud-object-storage.appdomain.cloud (s3.us.cloud-object-storage.appdomain.cloud)... 67.228.254.196\nConnecting to s3.us.cloud-object-storage.appdomain.cloud (s3.us.cloud-object-storage.appdomain.cloud)|67.228.254.196|:443... connected.\nHTTP request sent, awaiting response... 200 OK\nLength: 73917638 (70M) [text/csv]\nSaving to: \u2018collisions.csv\u2019\n\ncollisions.csv      100%[===================>]  70.49M  45.6MB/s    in 1.5s    \n\n2020-11-10 01:22:19 (45.6 MB/s) - \u2018collisions.csv\u2019 saved [73917638/73917638]\n\n"
                }
            ],
            "source": "#Downloading the data\n!wget -O collisions.csv https://s3.us.cloud-object-storage.appdomain.cloud/cf-courses-data/CognitiveClass/DP0701EN/version-2/Data-Collisions.csv"
        },
        {
            "cell_type": "code",
            "execution_count": 196,
            "metadata": {
                "scrolled": true
            },
            "outputs": [
                {
                    "data": {
                        "text/html": "<div>\n<style scoped>\n    .dataframe tbody tr th:only-of-type {\n        vertical-align: middle;\n    }\n\n    .dataframe tbody tr th {\n        vertical-align: top;\n    }\n\n    .dataframe thead th {\n        text-align: right;\n    }\n</style>\n<table border=\"1\" class=\"dataframe\">\n  <thead>\n    <tr style=\"text-align: right;\">\n      <th></th>\n      <th>SEVERITYCODE</th>\n      <th>X</th>\n      <th>Y</th>\n      <th>ADDRTYPE</th>\n      <th>SEVERITYDESC</th>\n      <th>COLLISIONTYPE</th>\n      <th>PERSONCOUNT</th>\n      <th>PEDCOUNT</th>\n      <th>PEDCYLCOUNT</th>\n      <th>VEHCOUNT</th>\n      <th>INCDTTM</th>\n      <th>JUNCTIONTYPE</th>\n      <th>INATTENTIONIND</th>\n      <th>UNDERINFL</th>\n      <th>WEATHER</th>\n      <th>ROADCOND</th>\n      <th>LIGHTCOND</th>\n      <th>SPEEDING</th>\n    </tr>\n  </thead>\n  <tbody>\n    <tr>\n      <th>0</th>\n      <td>2</td>\n      <td>-122.323148</td>\n      <td>47.703140</td>\n      <td>Intersection</td>\n      <td>Injury Collision</td>\n      <td>Angles</td>\n      <td>2</td>\n      <td>0</td>\n      <td>0</td>\n      <td>2</td>\n      <td>2013-03-27 14:54:00</td>\n      <td>At Intersection (intersection related)</td>\n      <td>NaN</td>\n      <td>N</td>\n      <td>Overcast</td>\n      <td>Wet</td>\n      <td>Daylight</td>\n      <td>NaN</td>\n    </tr>\n    <tr>\n      <th>1</th>\n      <td>1</td>\n      <td>-122.347294</td>\n      <td>47.647172</td>\n      <td>Block</td>\n      <td>Property Damage Only Collision</td>\n      <td>Sideswipe</td>\n      <td>2</td>\n      <td>0</td>\n      <td>0</td>\n      <td>2</td>\n      <td>2006-12-20 18:55:00</td>\n      <td>Mid-Block (not related to intersection)</td>\n      <td>NaN</td>\n      <td>0</td>\n      <td>Raining</td>\n      <td>Wet</td>\n      <td>Dark - Street Lights On</td>\n      <td>NaN</td>\n    </tr>\n    <tr>\n      <th>2</th>\n      <td>1</td>\n      <td>-122.334540</td>\n      <td>47.607871</td>\n      <td>Block</td>\n      <td>Property Damage Only Collision</td>\n      <td>Parked Car</td>\n      <td>4</td>\n      <td>0</td>\n      <td>0</td>\n      <td>3</td>\n      <td>2004-11-18 10:20:00</td>\n      <td>Mid-Block (not related to intersection)</td>\n      <td>NaN</td>\n      <td>0</td>\n      <td>Overcast</td>\n      <td>Dry</td>\n      <td>Daylight</td>\n      <td>NaN</td>\n    </tr>\n    <tr>\n      <th>3</th>\n      <td>1</td>\n      <td>-122.334803</td>\n      <td>47.604803</td>\n      <td>Block</td>\n      <td>Property Damage Only Collision</td>\n      <td>Other</td>\n      <td>3</td>\n      <td>0</td>\n      <td>0</td>\n      <td>3</td>\n      <td>2013-03-29 09:26:00</td>\n      <td>Mid-Block (not related to intersection)</td>\n      <td>NaN</td>\n      <td>N</td>\n      <td>Clear</td>\n      <td>Dry</td>\n      <td>Daylight</td>\n      <td>NaN</td>\n    </tr>\n    <tr>\n      <th>4</th>\n      <td>2</td>\n      <td>-122.306426</td>\n      <td>47.545739</td>\n      <td>Intersection</td>\n      <td>Injury Collision</td>\n      <td>Angles</td>\n      <td>2</td>\n      <td>0</td>\n      <td>0</td>\n      <td>2</td>\n      <td>2004-01-28 08:04:00</td>\n      <td>At Intersection (intersection related)</td>\n      <td>NaN</td>\n      <td>0</td>\n      <td>Raining</td>\n      <td>Wet</td>\n      <td>Daylight</td>\n      <td>NaN</td>\n    </tr>\n  </tbody>\n</table>\n</div>",
                        "text/plain": "   SEVERITYCODE           X          Y      ADDRTYPE  \\\n0             2 -122.323148  47.703140  Intersection   \n1             1 -122.347294  47.647172         Block   \n2             1 -122.334540  47.607871         Block   \n3             1 -122.334803  47.604803         Block   \n4             2 -122.306426  47.545739  Intersection   \n\n                     SEVERITYDESC COLLISIONTYPE  PERSONCOUNT  PEDCOUNT  \\\n0                Injury Collision        Angles            2         0   \n1  Property Damage Only Collision     Sideswipe            2         0   \n2  Property Damage Only Collision    Parked Car            4         0   \n3  Property Damage Only Collision         Other            3         0   \n4                Injury Collision        Angles            2         0   \n\n   PEDCYLCOUNT  VEHCOUNT             INCDTTM  \\\n0            0         2 2013-03-27 14:54:00   \n1            0         2 2006-12-20 18:55:00   \n2            0         3 2004-11-18 10:20:00   \n3            0         3 2013-03-29 09:26:00   \n4            0         2 2004-01-28 08:04:00   \n\n                              JUNCTIONTYPE INATTENTIONIND UNDERINFL   WEATHER  \\\n0   At Intersection (intersection related)            NaN         N  Overcast   \n1  Mid-Block (not related to intersection)            NaN         0   Raining   \n2  Mid-Block (not related to intersection)            NaN         0  Overcast   \n3  Mid-Block (not related to intersection)            NaN         N     Clear   \n4   At Intersection (intersection related)            NaN         0   Raining   \n\n  ROADCOND                LIGHTCOND SPEEDING  \n0      Wet                 Daylight      NaN  \n1      Wet  Dark - Street Lights On      NaN  \n2      Dry                 Daylight      NaN  \n3      Dry                 Daylight      NaN  \n4      Wet                 Daylight      NaN  "
                    },
                    "execution_count": 196,
                    "metadata": {},
                    "output_type": "execute_result"
                }
            ],
            "source": "#Loading the data\nchosen_attributes = ['SEVERITYCODE','X','Y','ADDRTYPE','SEVERITYDESC','COLLISIONTYPE','PERSONCOUNT',\n                     'PEDCOUNT','PEDCYLCOUNT','VEHCOUNT','INCDTTM','JUNCTIONTYPE','INATTENTIONIND',\n                     'UNDERINFL','WEATHER','ROADCOND','LIGHTCOND','SPEEDING']\ncollisions = pd.read_csv('collisions.csv', low_memory=False, parse_dates=['INCDTTM'],usecols=chosen_attributes)\ncollisions.head()"
        },
        {
            "cell_type": "markdown",
            "metadata": {},
            "source": "#### 3.1.2 Cleaning the data"
        },
        {
            "cell_type": "code",
            "execution_count": 197,
            "metadata": {},
            "outputs": [
                {
                    "name": "stdout",
                    "output_type": "stream",
                    "text": "<class 'pandas.core.frame.DataFrame'>\nRangeIndex: 194673 entries, 0 to 194672\nData columns (total 18 columns):\n #   Column          Non-Null Count   Dtype         \n---  ------          --------------   -----         \n 0   SEVERITYCODE    194673 non-null  int64         \n 1   X               189339 non-null  float64       \n 2   Y               189339 non-null  float64       \n 3   ADDRTYPE        192747 non-null  object        \n 4   SEVERITYDESC    194673 non-null  object        \n 5   COLLISIONTYPE   189769 non-null  object        \n 6   PERSONCOUNT     194673 non-null  int64         \n 7   PEDCOUNT        194673 non-null  int64         \n 8   PEDCYLCOUNT     194673 non-null  int64         \n 9   VEHCOUNT        194673 non-null  int64         \n 10  INCDTTM         194673 non-null  datetime64[ns]\n 11  JUNCTIONTYPE    188344 non-null  object        \n 12  INATTENTIONIND  29805 non-null   object        \n 13  UNDERINFL       189789 non-null  object        \n 14  WEATHER         189592 non-null  object        \n 15  ROADCOND        189661 non-null  object        \n 16  LIGHTCOND       189503 non-null  object        \n 17  SPEEDING        9333 non-null    object        \ndtypes: datetime64[ns](1), float64(2), int64(5), object(10)\nmemory usage: 26.7+ MB\n\n The dataset has 194673 records and 18 collumns (target variable and attributes).\n"
                }
            ],
            "source": "#Checking columns types and data shape\ncollisions.info()\nprint(\"\\n The dataset has\", collisions.shape[0],\"records and\", collisions.shape[1], \"collumns (target variable and attributes).\")"
        },
        {
            "cell_type": "code",
            "execution_count": 198,
            "metadata": {},
            "outputs": [
                {
                    "data": {
                        "text/plain": "SEVERITYCODE           0\nX                   5334\nY                   5334\nADDRTYPE            1926\nSEVERITYDESC           0\nCOLLISIONTYPE       4904\nPERSONCOUNT            0\nPEDCOUNT               0\nPEDCYLCOUNT            0\nVEHCOUNT               0\nINCDTTM                0\nJUNCTIONTYPE        6329\nINATTENTIONIND    164868\nUNDERINFL           4884\nWEATHER             5081\nROADCOND            5012\nLIGHTCOND           5170\nSPEEDING          185340\ndtype: int64"
                    },
                    "execution_count": 198,
                    "metadata": {},
                    "output_type": "execute_result"
                }
            ],
            "source": "#Checking how many missing values are there\ncollisions.isna().sum()"
        },
        {
            "cell_type": "code",
            "execution_count": 199,
            "metadata": {},
            "outputs": [
                {
                    "name": "stdout",
                    "output_type": "stream",
                    "text": "SEVERITYCODE     0\nX                0\nY                0\nADDRTYPE         0\nSEVERITYDESC     0\nCOLLISIONTYPE    0\nPERSONCOUNT      0\nPEDCOUNT         0\nPEDCYLCOUNT      0\nVEHCOUNT         0\nINCDTTM          0\nJUNCTIONTYPE     0\nUNDERINFL        0\nWEATHER          0\nROADCOND         0\nLIGHTCOND        0\ndtype: int64\n\n The dataset now has 180067 records and 16 collumns (target variable and attributes).\n"
                }
            ],
            "source": "#There are a lot of data missing. We will delete these records.\n#The attributes SPEEDING and INATTENTIONIND has a lot of missing data! We will drop these attributes.\n\ncollisions.drop(columns=['SPEEDING','INATTENTIONIND'], inplace=True) #dropping the attributes\ncollisions.dropna(inplace=True) #Deleting records with missing data\nprint(collisions.isna().sum())\nprint(\"\\n The dataset now has\", collisions.shape[0],\"records and\", collisions.shape[1], \"collumns (target variable and attributes).\")"
        },
        {
            "cell_type": "markdown",
            "metadata": {},
            "source": "No missing data anymore!"
        },
        {
            "cell_type": "code",
            "execution_count": 200,
            "metadata": {},
            "outputs": [
                {
                    "name": "stdout",
                    "output_type": "stream",
                    "text": "SEVERITYCODE [2 1] \n\nX [-122.3231484 -122.3472943 -122.33454   ... -122.3927543 -122.3042172\n -122.3616722] \n\nY [47.70314032 47.64717249 47.60787143 ... 47.51527348 47.6695375\n 47.55672231] \n\nADDRTYPE ['Intersection' 'Block'] \n\nSEVERITYDESC ['Injury Collision' 'Property Damage Only Collision'] \n\nCOLLISIONTYPE ['Angles' 'Sideswipe' 'Parked Car' 'Other' 'Cycles' 'Rear Ended' 'Head On'\n 'Left Turn' 'Pedestrian' 'Right Turn'] \n\nPERSONCOUNT [ 2  4  3  0  5  1  6 16  8  7 11  9 12 17 26 22 10 37 13 36 28 14 53 19\n 30 29 23 44 15 32 21 41 27 20 35 43 81 18 25 48 24 34 57 39 47 54 31] \n\nPEDCOUNT [0 1 2 3 4 5 6] \n\nPEDCYLCOUNT [0 1 2] \n\nVEHCOUNT [ 2  3  1  4  0  7  5  6  8 11  9 10 12] \n\nINCDTTM ['2013-03-27T14:54:00.000000000' '2006-12-20T18:55:00.000000000'\n '2004-11-18T10:20:00.000000000' ... '2019-01-19T09:25:00.000000000'\n '2019-01-15T16:48:00.000000000' '2018-11-30T15:45:00.000000000'] \n\nJUNCTIONTYPE ['At Intersection (intersection related)'\n 'Mid-Block (not related to intersection)' 'Driveway Junction'\n 'At Intersection (but not related to intersection)'\n 'Mid-Block (but intersection related)' 'Ramp Junction' 'Unknown'] \n\nUNDERINFL ['N' '0' '1' 'Y'] \n\nWEATHER ['Overcast' 'Raining' 'Clear' 'Unknown' 'Other' 'Snowing' 'Fog/Smog/Smoke'\n 'Sleet/Hail/Freezing Rain' 'Blowing Sand/Dirt' 'Severe Crosswind'\n 'Partly Cloudy'] \n\nROADCOND ['Wet' 'Dry' 'Unknown' 'Snow/Slush' 'Ice' 'Other' 'Sand/Mud/Dirt'\n 'Standing Water' 'Oil'] \n\nLIGHTCOND ['Daylight' 'Dark - Street Lights On' 'Dark - No Street Lights' 'Unknown'\n 'Dusk' 'Dawn' 'Dark - Street Lights Off' 'Other'\n 'Dark - Unknown Lighting'] \n\n"
                }
            ],
            "source": "#Checking the unique values of some attributes just to see if we have something wrong.\nfor i in collisions.columns:\n    print(i, collisions[i].unique(),'\\n')"
        },
        {
            "cell_type": "code",
            "execution_count": 201,
            "metadata": {},
            "outputs": [
                {
                    "data": {
                        "text/plain": "Daylight                    112216\nDark - Street Lights On      46683\nUnknown                      10340\nDusk                          5708\nDawn                          2389\nDark - No Street Lights       1418\nDark - Street Lights Off      1130\nOther                          172\nDark - Unknown Lighting         11\nName: LIGHTCOND, dtype: int64"
                    },
                    "execution_count": 201,
                    "metadata": {},
                    "output_type": "execute_result"
                }
            ],
            "source": "collisions['LIGHTCOND'].value_counts()"
        },
        {
            "cell_type": "code",
            "execution_count": 202,
            "metadata": {},
            "outputs": [
                {
                    "name": "stdout",
                    "output_type": "stream",
                    "text": "SEVERITYCODE [2 1] \n\nX [-122.3231484 -122.3472943 -122.33454   ... -122.3272738 -122.3283544\n -122.3042172] \n\nY [47.70314032 47.64717249 47.60787143 ... 47.54386061 47.55303692\n 47.6695375 ] \n\nADDRTYPE ['Intersection' 'Block'] \n\nSEVERITYDESC ['Injury Collision' 'Property Damage Only Collision'] \n\nCOLLISIONTYPE ['Angles' 'Sideswipe' 'Parked Car' 'Cycles' 'Rear Ended' 'Head On'\n 'Left Turn' 'Pedestrian' 'Right Turn'] \n\nPERSONCOUNT [ 2  4  3  0  5  6 16  8  7  1 11  9 12 17 26 22 10 37 13 36 28 14 53 19\n 29 23 44 15 32 21 41 27 20 35 43 30 18 24 34 39 47 54 25 31] \n\nPEDCOUNT [0 1 2 3 4 6] \n\nPEDCYLCOUNT [0 1 2] \n\nVEHCOUNT [ 2  3  1  4  7  5  0  6  8 11  9 10 12] \n\nINCDTTM ['2013-03-27T14:54:00.000000000' '2006-12-20T18:55:00.000000000'\n '2004-11-18T10:20:00.000000000' ... '2019-01-19T09:25:00.000000000'\n '2019-01-15T16:48:00.000000000' '2018-11-30T15:45:00.000000000'] \n\nJUNCTIONTYPE ['At Intersection (intersection related)'\n 'Mid-Block (not related to intersection)' 'Driveway Junction'\n 'At Intersection (but not related to intersection)'\n 'Mid-Block (but intersection related)' 'Ramp Junction'] \n\nUNDERINFL [0 1] \n\nWEATHER ['Overcast' 'Raining' 'Clear' 'Snowing' 'Sleet/Hail/Freezing Rain'\n 'Fog/Smog/Smoke' 'Blowing Sand/Dirt' 'Severe Crosswind' 'Partly Cloudy'] \n\nROADCOND ['Wet' 'Dry' 'Snow/Slush' 'Ice' 'Sand/Mud/Dirt' 'Oil' 'Standing Water'] \n\nLIGHTCOND ['Daylight' 'Dark - Street Lights On' 'Dark - No Street Lights' 'Dusk'\n 'Dawn'] \n\n\n The dataset now has 143741 records and 16 collumns (target variable and attributes).\n"
                }
            ],
            "source": "#Some attributes have values like \"Unknown\" or \"Other\" that do not help us. We will delete records that contain these values.\ncollisions = collisions.drop(collisions[(collisions['COLLISIONTYPE'] == \"Other\") | \n                                        (collisions['JUNCTIONTYPE'] == \"Unknown\") | \n                                        (collisions['WEATHER'] == \"Other\") | \n                                        (collisions['WEATHER'] == \"Unknown\") |\n                                        (collisions['ROADCOND'] == \"Other\") | \n                                        (collisions['ROADCOND'] == \"Unknown\") |\n                                        (collisions['LIGHTCOND'] == \"Other\") |\n                                        (collisions['LIGHTCOND'] == \"Unknown\")].index)\n\n#Fixing the attribute UNDERINFL for use only zeros and ones.\n\ncollisions['UNDERINFL'].replace(\"N\",\"0\",inplace=True)\ncollisions['UNDERINFL'].replace(\"Y\",\"1\",inplace=True)\ncollisions['UNDERINFL'] = collisions['UNDERINFL'].astype('int') #changing the attribute type for integer\n\n#The information bellow is the same. Let's join then.\ncollisions['LIGHTCOND'] = collisions['LIGHTCOND'].replace(\"Dark - Street Lights Off\", \"Dark - No Street Lights\")\n\n#Dropping the 'Dark - Unknown Lighting' in attribute 'LIGHTCOND'. There are only a few records and this information doesnt help so much.\ncollisions = collisions.drop(collisions[(collisions['LIGHTCOND'] == \"Dark - Unknown Lighting\")].index)\n\nfor i in collisions.columns:\n    print(i, collisions[i].unique(),'\\n')\n\nprint(\"\\n The dataset now has\", collisions.shape[0],\"records and\", collisions.shape[1], \"collumns (target variable and attributes).\")"
        },
        {
            "cell_type": "markdown",
            "metadata": {},
            "source": "#### 3.1.3 Balancing the data"
        },
        {
            "cell_type": "markdown",
            "metadata": {},
            "source": "Our target variable is the attribute \"SEVERITYCODE\", which indicates the severity of the accident.  \nIn this datase we only have 2 types of severity: 1 - Property Damage Only Collision, 2 - Injury Collision.  \nIt's important to say that the attribute SEVERITYCODE is the same as the SEVERITYDESC. The only difference is that one is in numbers and the other is in categorical values."
        },
        {
            "cell_type": "code",
            "execution_count": 203,
            "metadata": {},
            "outputs": [
                {
                    "data": {
                        "text/plain": "Property Damage Only Collision    94818\nInjury Collision                  48923\nName: SEVERITYDESC, dtype: int64"
                    },
                    "execution_count": 203,
                    "metadata": {},
                    "output_type": "execute_result"
                },
                {
                    "data": {
                        "image/png": "[encoded data removed]",
                        "text/plain": "<Figure size 432x288 with 1 Axes>"
                    },
                    "metadata": {
                        "needs_background": "light"
                    },
                    "output_type": "display_data"
                }
            ],
            "source": "#Checking if the data is balanced\nsns.countplot(x=\"SEVERITYDESC\", data=collisions)\ncollisions['SEVERITYDESC'].value_counts()"
        },
        {
            "cell_type": "markdown",
            "metadata": {},
            "source": "As we could see above, there are twice as much \"Property Damage Only Collision\" data as \"Injury Collision\" data.  \nThis will causes a bias in the data results. So, we will need to equalize this data."
        },
        {
            "cell_type": "code",
            "execution_count": 171,
            "metadata": {},
            "outputs": [
                {
                    "name": "stdout",
                    "output_type": "stream",
                    "text": "Collecting imbalanced-learn\n  Downloading imbalanced_learn-0.7.0-py3-none-any.whl (167 kB)\n\u001b[K     |\u2588\u2588\u2588\u2588\u2588\u2588\u2588\u2588\u2588\u2588\u2588\u2588\u2588\u2588\u2588\u2588\u2588\u2588\u2588\u2588\u2588\u2588\u2588\u2588\u2588\u2588\u2588\u2588\u2588\u2588\u2588\u2588| 167 kB 10.2 MB/s eta 0:00:01\n\u001b[?25hRequirement already satisfied, skipping upgrade: numpy>=1.13.3 in /opt/conda/envs/Python-3.7-main/lib/python3.7/site-packages (from imbalanced-learn) (1.18.5)\nRequirement already satisfied, skipping upgrade: scipy>=0.19.1 in /opt/conda/envs/Python-3.7-main/lib/python3.7/site-packages (from imbalanced-learn) (1.5.0)\nRequirement already satisfied, skipping upgrade: scikit-learn>=0.23 in /opt/conda/envs/Python-3.7-main/lib/python3.7/site-packages (from imbalanced-learn) (0.23.1)\nRequirement already satisfied, skipping upgrade: joblib>=0.11 in /opt/conda/envs/Python-3.7-main/lib/python3.7/site-packages (from imbalanced-learn) (0.16.0)\nRequirement already satisfied, skipping upgrade: threadpoolctl>=2.0.0 in /opt/conda/envs/Python-3.7-main/lib/python3.7/site-packages (from scikit-learn>=0.23->imbalanced-learn) (2.1.0)\nInstalling collected packages: imbalanced-learn\nSuccessfully installed imbalanced-learn-0.7.0\n"
                }
            ],
            "source": "#You should have to install the Imballanced library before.\n!pip install -U imbalanced-learn"
        },
        {
            "cell_type": "code",
            "execution_count": 204,
            "metadata": {},
            "outputs": [
                {
                    "data": {
                        "text/plain": "Injury Collision                  48923\nProperty Damage Only Collision    48923\nName: SEVERITYDESC, dtype: int64"
                    },
                    "execution_count": 204,
                    "metadata": {},
                    "output_type": "execute_result"
                },
                {
                    "data": {
                        "image/png": "[encoded data removed]",
                        "text/plain": "<Figure size 432x288 with 1 Axes>"
                    },
                    "metadata": {
                        "needs_background": "light"
                    },
                    "output_type": "display_data"
                }
            ],
            "source": "from imblearn.under_sampling import RandomUnderSampler\n\nX = collisions[['X','Y','ADDRTYPE','SEVERITYDESC','COLLISIONTYPE','PERSONCOUNT',\n                'PEDCOUNT','PEDCYLCOUNT','VEHCOUNT','INCDTTM','JUNCTIONTYPE',\n                'UNDERINFL','WEATHER','ROADCOND','LIGHTCOND']]\ny = collisions[['SEVERITYCODE']]\nrus = RandomUnderSampler(random_state=0)\nX_res, y_res = rus.fit_resample(X,y)\n\ncollisions = X_res\ncollisions['SEVERITYCODE'] = y_res\n\nsns.countplot(x=\"SEVERITYDESC\", data=collisions)\ncollisions['SEVERITYDESC'].value_counts()"
        },
        {
            "cell_type": "markdown",
            "metadata": {},
            "source": "Now the data is balanced and we can continue to the next step."
        },
        {
            "cell_type": "markdown",
            "metadata": {},
            "source": "## 4 - Analysis <a name=\"analysis\"></a>"
        },
        {
            "cell_type": "code",
            "execution_count": null,
            "metadata": {},
            "outputs": [],
            "source": ""
        },
        {
            "cell_type": "code",
            "execution_count": 16,
            "metadata": {},
            "outputs": [],
            "source": "# [WORKING IN PROGRESS]\n# perform some basic explanatory data analysis and derive some additional info from our raw data."
        },
        {
            "cell_type": "markdown",
            "metadata": {},
            "source": "## 5 - Results and Discussion <a name=\"results\"></a>"
        },
        {
            "cell_type": "code",
            "execution_count": 17,
            "metadata": {},
            "outputs": [],
            "source": "# [WORKING IN PROGRESS]\n# Results -> section where you discuss the results.\n# Discussion -> section where you discuss any observations you noted and any recommendations you can make based on the results."
        },
        {
            "cell_type": "markdown",
            "metadata": {},
            "source": "## 6 - Conclusion <a name=\"final\"></a>"
        },
        {
            "cell_type": "code",
            "execution_count": 18,
            "metadata": {},
            "outputs": [],
            "source": "# [WORKING IN PROGRESS]\n# section where you conclude the report"
        },
        {
            "cell_type": "code",
            "execution_count": 1,
            "metadata": {},
            "outputs": [
                {
                    "name": "stdout",
                    "output_type": "stream",
                    "text": "--2020-10-13 19:57:02--  https://dados.antt.gov.br/dataset/ef0171a8-f0df-4817-a4ed-b4ff94d87194/resource/5011a91e-aff9-4a73-8d8e-3097a2ce063d/download/demostrativo_acidentes.csv\nResolving dados.antt.gov.br (dados.antt.gov.br)... 200.198.195.143\nConnecting to dados.antt.gov.br (dados.antt.gov.br)|200.198.195.143|:443... connected.\nHTTP request sent, awaiting response... 200 OK\nLength: 63408368 (60M) [text/csv]\nSaving to: \u2018collisions.csv\u2019\n\n100%[======================================>] 63,408,368   489KB/s   in 2m 5s  \n\n2020-10-13 19:59:08 (496 KB/s) - \u2018collisions.csv\u2019 saved [63408368/63408368]\n\n"
                }
            ],
            "source": "import pandas as pd\n\n!wget -O collisions.csv https://dados.antt.gov.br/dataset/ef0171a8-f0df-4817-a4ed-b4ff94d87194/resource/5011a91e-aff9-4a73-8d8e-3097a2ce063d/download/demostrativo_acidentes.csv"
        },
        {
            "cell_type": "code",
            "execution_count": 2,
            "metadata": {},
            "outputs": [
                {
                    "ename": "ParserError",
                    "evalue": "Error tokenizing data. C error: Expected 1 fields in line 15, saw 2\n",
                    "output_type": "error",
                    "traceback": [
                        "\u001b[0;31m---------------------------------------------------------------------------\u001b[0m",
                        "\u001b[0;31mParserError\u001b[0m                               Traceback (most recent call last)",
                        "\u001b[0;32m<ipython-input-2-b3cc4086e9a0>\u001b[0m in \u001b[0;36m<module>\u001b[0;34m\u001b[0m\n\u001b[0;32m----> 1\u001b[0;31m \u001b[0mcollisions\u001b[0m \u001b[0;34m=\u001b[0m \u001b[0mpd\u001b[0m\u001b[0;34m.\u001b[0m\u001b[0mread_csv\u001b[0m\u001b[0;34m(\u001b[0m\u001b[0;34m'collisions.csv'\u001b[0m\u001b[0;34m)\u001b[0m\u001b[0;34m\u001b[0m\u001b[0;34m\u001b[0m\u001b[0m\n\u001b[0m\u001b[1;32m      2\u001b[0m \u001b[0mcollisions\u001b[0m\u001b[0;34m.\u001b[0m\u001b[0minfo\u001b[0m\u001b[0;34m(\u001b[0m\u001b[0;34m)\u001b[0m\u001b[0;34m\u001b[0m\u001b[0;34m\u001b[0m\u001b[0m\n",
                        "\u001b[0;32m/opt/conda/envs/Python36/lib/python3.6/site-packages/pandas/io/parsers.py\u001b[0m in \u001b[0;36mparser_f\u001b[0;34m(filepath_or_buffer, sep, delimiter, header, names, index_col, usecols, squeeze, prefix, mangle_dupe_cols, dtype, engine, converters, true_values, false_values, skipinitialspace, skiprows, skipfooter, nrows, na_values, keep_default_na, na_filter, verbose, skip_blank_lines, parse_dates, infer_datetime_format, keep_date_col, date_parser, dayfirst, iterator, chunksize, compression, thousands, decimal, lineterminator, quotechar, quoting, doublequote, escapechar, comment, encoding, dialect, tupleize_cols, error_bad_lines, warn_bad_lines, delim_whitespace, low_memory, memory_map, float_precision)\u001b[0m\n\u001b[1;32m    700\u001b[0m                     skip_blank_lines=skip_blank_lines)\n\u001b[1;32m    701\u001b[0m \u001b[0;34m\u001b[0m\u001b[0m\n\u001b[0;32m--> 702\u001b[0;31m         \u001b[0;32mreturn\u001b[0m \u001b[0m_read\u001b[0m\u001b[0;34m(\u001b[0m\u001b[0mfilepath_or_buffer\u001b[0m\u001b[0;34m,\u001b[0m \u001b[0mkwds\u001b[0m\u001b[0;34m)\u001b[0m\u001b[0;34m\u001b[0m\u001b[0;34m\u001b[0m\u001b[0m\n\u001b[0m\u001b[1;32m    703\u001b[0m \u001b[0;34m\u001b[0m\u001b[0m\n\u001b[1;32m    704\u001b[0m     \u001b[0mparser_f\u001b[0m\u001b[0;34m.\u001b[0m\u001b[0m__name__\u001b[0m \u001b[0;34m=\u001b[0m \u001b[0mname\u001b[0m\u001b[0;34m\u001b[0m\u001b[0;34m\u001b[0m\u001b[0m\n",
                        "\u001b[0;32m/opt/conda/envs/Python36/lib/python3.6/site-packages/pandas/io/parsers.py\u001b[0m in \u001b[0;36m_read\u001b[0;34m(filepath_or_buffer, kwds)\u001b[0m\n\u001b[1;32m    433\u001b[0m \u001b[0;34m\u001b[0m\u001b[0m\n\u001b[1;32m    434\u001b[0m     \u001b[0;32mtry\u001b[0m\u001b[0;34m:\u001b[0m\u001b[0;34m\u001b[0m\u001b[0;34m\u001b[0m\u001b[0m\n\u001b[0;32m--> 435\u001b[0;31m         \u001b[0mdata\u001b[0m \u001b[0;34m=\u001b[0m \u001b[0mparser\u001b[0m\u001b[0;34m.\u001b[0m\u001b[0mread\u001b[0m\u001b[0;34m(\u001b[0m\u001b[0mnrows\u001b[0m\u001b[0;34m)\u001b[0m\u001b[0;34m\u001b[0m\u001b[0;34m\u001b[0m\u001b[0m\n\u001b[0m\u001b[1;32m    436\u001b[0m     \u001b[0;32mfinally\u001b[0m\u001b[0;34m:\u001b[0m\u001b[0;34m\u001b[0m\u001b[0;34m\u001b[0m\u001b[0m\n\u001b[1;32m    437\u001b[0m         \u001b[0mparser\u001b[0m\u001b[0;34m.\u001b[0m\u001b[0mclose\u001b[0m\u001b[0;34m(\u001b[0m\u001b[0;34m)\u001b[0m\u001b[0;34m\u001b[0m\u001b[0;34m\u001b[0m\u001b[0m\n",
                        "\u001b[0;32m/opt/conda/envs/Python36/lib/python3.6/site-packages/pandas/io/parsers.py\u001b[0m in \u001b[0;36mread\u001b[0;34m(self, nrows)\u001b[0m\n\u001b[1;32m   1137\u001b[0m     \u001b[0;32mdef\u001b[0m \u001b[0mread\u001b[0m\u001b[0;34m(\u001b[0m\u001b[0mself\u001b[0m\u001b[0;34m,\u001b[0m \u001b[0mnrows\u001b[0m\u001b[0;34m=\u001b[0m\u001b[0;32mNone\u001b[0m\u001b[0;34m)\u001b[0m\u001b[0;34m:\u001b[0m\u001b[0;34m\u001b[0m\u001b[0;34m\u001b[0m\u001b[0m\n\u001b[1;32m   1138\u001b[0m         \u001b[0mnrows\u001b[0m \u001b[0;34m=\u001b[0m \u001b[0m_validate_integer\u001b[0m\u001b[0;34m(\u001b[0m\u001b[0;34m'nrows'\u001b[0m\u001b[0;34m,\u001b[0m \u001b[0mnrows\u001b[0m\u001b[0;34m)\u001b[0m\u001b[0;34m\u001b[0m\u001b[0;34m\u001b[0m\u001b[0m\n\u001b[0;32m-> 1139\u001b[0;31m         \u001b[0mret\u001b[0m \u001b[0;34m=\u001b[0m \u001b[0mself\u001b[0m\u001b[0;34m.\u001b[0m\u001b[0m_engine\u001b[0m\u001b[0;34m.\u001b[0m\u001b[0mread\u001b[0m\u001b[0;34m(\u001b[0m\u001b[0mnrows\u001b[0m\u001b[0;34m)\u001b[0m\u001b[0;34m\u001b[0m\u001b[0;34m\u001b[0m\u001b[0m\n\u001b[0m\u001b[1;32m   1140\u001b[0m \u001b[0;34m\u001b[0m\u001b[0m\n\u001b[1;32m   1141\u001b[0m         \u001b[0;31m# May alter columns / col_dict\u001b[0m\u001b[0;34m\u001b[0m\u001b[0;34m\u001b[0m\u001b[0;34m\u001b[0m\u001b[0m\n",
                        "\u001b[0;32m/opt/conda/envs/Python36/lib/python3.6/site-packages/pandas/io/parsers.py\u001b[0m in \u001b[0;36mread\u001b[0;34m(self, nrows)\u001b[0m\n\u001b[1;32m   1993\u001b[0m     \u001b[0;32mdef\u001b[0m \u001b[0mread\u001b[0m\u001b[0;34m(\u001b[0m\u001b[0mself\u001b[0m\u001b[0;34m,\u001b[0m \u001b[0mnrows\u001b[0m\u001b[0;34m=\u001b[0m\u001b[0;32mNone\u001b[0m\u001b[0;34m)\u001b[0m\u001b[0;34m:\u001b[0m\u001b[0;34m\u001b[0m\u001b[0;34m\u001b[0m\u001b[0m\n\u001b[1;32m   1994\u001b[0m         \u001b[0;32mtry\u001b[0m\u001b[0;34m:\u001b[0m\u001b[0;34m\u001b[0m\u001b[0;34m\u001b[0m\u001b[0m\n\u001b[0;32m-> 1995\u001b[0;31m             \u001b[0mdata\u001b[0m \u001b[0;34m=\u001b[0m \u001b[0mself\u001b[0m\u001b[0;34m.\u001b[0m\u001b[0m_reader\u001b[0m\u001b[0;34m.\u001b[0m\u001b[0mread\u001b[0m\u001b[0;34m(\u001b[0m\u001b[0mnrows\u001b[0m\u001b[0;34m)\u001b[0m\u001b[0;34m\u001b[0m\u001b[0;34m\u001b[0m\u001b[0m\n\u001b[0m\u001b[1;32m   1996\u001b[0m         \u001b[0;32mexcept\u001b[0m \u001b[0mStopIteration\u001b[0m\u001b[0;34m:\u001b[0m\u001b[0;34m\u001b[0m\u001b[0;34m\u001b[0m\u001b[0m\n\u001b[1;32m   1997\u001b[0m             \u001b[0;32mif\u001b[0m \u001b[0mself\u001b[0m\u001b[0;34m.\u001b[0m\u001b[0m_first_chunk\u001b[0m\u001b[0;34m:\u001b[0m\u001b[0;34m\u001b[0m\u001b[0;34m\u001b[0m\u001b[0m\n",
                        "\u001b[0;32mpandas/_libs/parsers.pyx\u001b[0m in \u001b[0;36mpandas._libs.parsers.TextReader.read\u001b[0;34m()\u001b[0m\n",
                        "\u001b[0;32mpandas/_libs/parsers.pyx\u001b[0m in \u001b[0;36mpandas._libs.parsers.TextReader._read_low_memory\u001b[0;34m()\u001b[0m\n",
                        "\u001b[0;32mpandas/_libs/parsers.pyx\u001b[0m in \u001b[0;36mpandas._libs.parsers.TextReader._read_rows\u001b[0;34m()\u001b[0m\n",
                        "\u001b[0;32mpandas/_libs/parsers.pyx\u001b[0m in \u001b[0;36mpandas._libs.parsers.TextReader._tokenize_rows\u001b[0;34m()\u001b[0m\n",
                        "\u001b[0;32mpandas/_libs/parsers.pyx\u001b[0m in \u001b[0;36mpandas._libs.parsers.raise_parser_error\u001b[0;34m()\u001b[0m\n",
                        "\u001b[0;31mParserError\u001b[0m: Error tokenizing data. C error: Expected 1 fields in line 15, saw 2\n"
                    ]
                }
            ],
            "source": "collisions = pd.read_csv('collisions.csv')\ncollisions.info()"
        },
        {
            "cell_type": "code",
            "execution_count": null,
            "metadata": {},
            "outputs": [],
            "source": ""
        }
    ],
    "metadata": {
        "kernelspec": {
            "display_name": "Python 3.7",
            "language": "python",
            "name": "python3"
        },
        "language_info": {
            "codemirror_mode": {
                "name": "ipython",
                "version": 3
            },
            "file_extension": ".py",
            "mimetype": "text/x-python",
            "name": "python",
            "nbconvert_exporter": "python",
            "pygments_lexer": "ipython3",
            "version": "3.7.9"
        }
    },
    "nbformat": 4,
    "nbformat_minor": 1
}