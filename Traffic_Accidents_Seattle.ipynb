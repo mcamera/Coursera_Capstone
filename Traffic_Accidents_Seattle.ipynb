{
    "cells": [
        {
            "cell_type": "markdown",
            "metadata": {
                "collapsed": true
            },
            "source": "# A DATA ANALYSIS OF TRAFFIC ACCIDENTS IN SEATTLE, WA\n### Applied Data Science Capstone for the IBM Data Science Profissional Certificate/Coursera\n\nAuthor: Marcelo Camera Oliveira\n"
        },
        {
            "cell_type": "markdown",
            "metadata": {},
            "source": "## Table of contents\n* [1 - Business Understanding](#intro)\n* [2 - The Data](#data)\n* [3 - Methodology](#methodology)\n* [4 - Analysis](#analysis)\n* [5 - Results and Discussion](#results)\n* [6 - Conclusion](#final)"
        },
        {
            "cell_type": "markdown",
            "metadata": {},
            "source": "## 1. Business Understanding  <a name=\"intro\"></a>"
        },
        {
            "cell_type": "markdown",
            "metadata": {},
            "source": "The increasing number of cars on the roads brings with it a worrying reality: the increase of the accident rate. Such accidents cause enormous consequences, the most important of which, of a human nature, is the loss of life. Other effects appear in the ride of this reality, one of which is the financial loss, due to the long traffic jams and roadblocks, which have a negative impact on the logistics of goods.\n\nIn parallel, it is necessary to contextualize the importance of Information and Communication Technology (ICT) in solving urban problems. Given the worldwide technological advancement, cities are becoming increasingly \u201csmart\u201d. The terminology \"Smart Cities\" basically goes back to the concept of a city that makes use of ICT, through various physical devices connected to the IoT (Internet of Things) network, in order to optimize its operations and services, in addition to connecting citizens.\n\nFaced with such a problem, it is suggested the development of a mathematical model that, in view of the knowledge of initial situations, a risk classification should be carried out. From this perspective, given the driver's entry into a certain road, he is given knowledge of the degree of risk to which he will be subject and, thus, the necessary preventive measures can be taken, such as: changing his route, reducing the car speed, or increasing your attention.\n\nThus, having the knowledge of historical accident data in a given location and the creation of a mathematical model based on this data, a city could use this tool to implement data capture devices (rain, traffic, object recognition on the roads) with the purpose of issuing alerts to the drivers (electronic boards, mobile phone applications, among others)."
        },
        {
            "cell_type": "markdown",
            "metadata": {},
            "source": "### 1.1 The Stakehoders"
        },
        {
            "cell_type": "markdown",
            "metadata": {},
            "source": "This project aims to inform Seattle city drivers (audience) about the conditions of the road he will be joining. In this way, he will be able to analyze the situation in order to take the necessary preventive measures."
        },
        {
            "cell_type": "markdown",
            "metadata": {},
            "source": "## 2. The Data <a name=\"data\"></a>"
        },
        {
            "cell_type": "markdown",
            "metadata": {},
            "source": "We will use the data of the City of Seattle Open Data Portal ([https://data.seattle.gov/](https://data.seattle.gov/)). This data contains several records of traffic accidents in the city of Seattle, USA, from 2004 to the present.\n\nThe dataset could be downloaded at: [https://data-seattlecitygis.opendata.arcgis.com/datasets/collisions](https://data-seattlecitygis.opendata.arcgis.com/datasets/collisions)  \n\nThe complete metadata for the data source can be found via [this link.](https://www.seattle.gov/Documents/Departments/SDOT/GIS/Collisions_OD.pdf)\n\nAnalyzing the available data dictionary, with focus on the problem, we could see wich features we will really necessary. These were the chosen ones:\n\n| ATTRIBUTE | DESCRIPTION |\n| :---: | :---: |\n| `OBJECTID` | unique record identifier; |\n| `X` | Longitude - Geographic coordinate; |\n| `Y` | Latitude - Geographic coordinate; |\n| `ADDRTYPE` | Collision address type: Alley, Block or Intersection; |\n| `LOCATION` | Description of the general location of the collision; |\n| `SEVERITYCODE` | Target variable. Severity of the collision (3\u2014fatality, 2b\u2014serious injury, 2\u2014injury, 1\u2014prop damage, 0\u2014unknown); |\n| `SEVERITYDESC` | A detailed description of the severity of the collision |\n| `COLLISIONTYPE` | Collision type; |\n| `PERSONCOUNT` | The total number of people involved in the collision; |\n| `PEDCOUNT` | The number of pedestrians involved in the collision; |\n| `PEDCYLCOUNT` | The number of bicycles involved in the collision; |\n| `VEHCOUNT` | The number of vehicles involved in the collision; |\n| `INJURIES` | The number of total injuries in the collision; |\n| `SERIOUSINJURIES` | The number of serious injuries in the collision; |\n| `FATALITIES` | The number of fatalities in the collision; |\n| `INCDTTM` | The date and time of the incident; |\n| `JUNCTIONTYPE` | Category of junction at which collision took place; |\n| `INATTENTIONIND` | Whether or not collision was due to inattention; |\n| `UNDERINFL` | Whether or not a driver involved was under the influence of drugs or alcohol; |\n| `WEATHER` | A description of the weather conditions during the time of the collision; |\n| `ROADCOND` | The condition of the road during the collision; |\n| `LIGHTCOND` | The light conditions during the collision; |\n| `SPEEDING` | Whether or not speeding was a factor in the collision; |\n| `HITPARKEDCAR` | Whether or not the collision involved hitting a parked car. |\n\nThe target variable will be the \"SEVERITYCODE\", which indicates the severity of the accident."
        },
        {
            "cell_type": "markdown",
            "metadata": {},
            "source": "## 3. Methodology <a name=\"methodology\"></a>"
        },
        {
            "cell_type": "markdown",
            "metadata": {},
            "source": "This is the main section of the project. Here, we will cover and describe the exploratory data analysis, inferential statistical testing and what machine learnings were used and why."
        },
        {
            "cell_type": "markdown",
            "metadata": {},
            "source": "### 3.1 Data Collection"
        },
        {
            "cell_type": "markdown",
            "metadata": {},
            "source": "Let's import and load the data to a dataframe, with the attributes already chosen."
        },
        {
            "cell_type": "code",
            "execution_count": 1,
            "metadata": {},
            "outputs": [],
            "source": "import pandas as pd\nimport seaborn as sns\nimport matplotlib.pyplot as plt\n%matplotlib inline"
        },
        {
            "cell_type": "code",
            "execution_count": 2,
            "metadata": {},
            "outputs": [
                {
                    "name": "stdout",
                    "output_type": "stream",
                    "text": "--2020-11-11 17:04:45--  https://opendata.arcgis.com/datasets/5b5c745e0f1f48e7a53acec63a0022ab_0.csv\nResolving opendata.arcgis.com (opendata.arcgis.com)... 52.22.243.25, 3.213.168.69, 52.54.89.37, ...\nConnecting to opendata.arcgis.com (opendata.arcgis.com)|52.22.243.25|:443... connected.\nHTTP request sent, awaiting response... 200 OK\nLength: unspecified [text/csv]\nSaving to: \u2018collisions.csv\u2019\n\ncollisions.csv          [     <=>            ]  81.41M  87.2MB/s    in 0.9s    \n\n2020-11-11 17:04:47 (87.2 MB/s) - \u2018collisions.csv\u2019 saved [85361869]\n\n"
                }
            ],
            "source": "#Downloading the data\n!wget -O collisions.csv https://opendata.arcgis.com/datasets/5b5c745e0f1f48e7a53acec63a0022ab_0.csv"
        },
        {
            "cell_type": "code",
            "execution_count": 51,
            "metadata": {},
            "outputs": [
                {
                    "name": "stdout",
                    "output_type": "stream",
                    "text": "Data loaded!\n"
                }
            ],
            "source": "#Loading the data\nchosen_attributes = ['OBJECTID','X','Y','ADDRTYPE','LOCATION','SEVERITYCODE','SEVERITYDESC',\n                     'COLLISIONTYPE','PERSONCOUNT','PEDCOUNT','PEDCYLCOUNT','VEHCOUNT','INJURIES',\n                     'SERIOUSINJURIES','FATALITIES','INCDTTM','JUNCTIONTYPE','INATTENTIONIND',\n                     'UNDERINFL','WEATHER','ROADCOND','LIGHTCOND','SPEEDING','HITPARKEDCAR']\ncollisions_raw = pd.read_csv('collisions.csv', low_memory=False, usecols=chosen_attributes, parse_dates=['INCDTTM']) #loading the data with the features chosen and formating the 'INCDTTM' attribute to a date format.\nprint('Data loaded!')"
        },
        {
            "cell_type": "markdown",
            "metadata": {},
            "source": "### 3.2 Understanding the Data"
        },
        {
            "cell_type": "code",
            "execution_count": 52,
            "metadata": {},
            "outputs": [
                {
                    "data": {
                        "text/html": "<div>\n<style scoped>\n    .dataframe tbody tr th:only-of-type {\n        vertical-align: middle;\n    }\n\n    .dataframe tbody tr th {\n        vertical-align: top;\n    }\n\n    .dataframe thead th {\n        text-align: right;\n    }\n</style>\n<table border=\"1\" class=\"dataframe\">\n  <thead>\n    <tr style=\"text-align: right;\">\n      <th></th>\n      <th>X</th>\n      <th>Y</th>\n      <th>OBJECTID</th>\n      <th>ADDRTYPE</th>\n      <th>LOCATION</th>\n      <th>SEVERITYCODE</th>\n      <th>SEVERITYDESC</th>\n      <th>COLLISIONTYPE</th>\n      <th>PERSONCOUNT</th>\n      <th>PEDCOUNT</th>\n      <th>...</th>\n      <th>FATALITIES</th>\n      <th>INCDTTM</th>\n      <th>JUNCTIONTYPE</th>\n      <th>INATTENTIONIND</th>\n      <th>UNDERINFL</th>\n      <th>WEATHER</th>\n      <th>ROADCOND</th>\n      <th>LIGHTCOND</th>\n      <th>SPEEDING</th>\n      <th>HITPARKEDCAR</th>\n    </tr>\n  </thead>\n  <tbody>\n    <tr>\n      <th>0</th>\n      <td>-122.315658</td>\n      <td>47.675815</td>\n      <td>1</td>\n      <td>Intersection</td>\n      <td>12TH AVE NE AND NE 65TH ST</td>\n      <td>2</td>\n      <td>Injury Collision</td>\n      <td>Pedestrian</td>\n      <td>2</td>\n      <td>1</td>\n      <td>...</td>\n      <td>0</td>\n      <td>2020-03-09 11:34:00</td>\n      <td>At Intersection (intersection related)</td>\n      <td>NaN</td>\n      <td>N</td>\n      <td>Clear</td>\n      <td>Dry</td>\n      <td>Daylight</td>\n      <td>NaN</td>\n      <td>N</td>\n    </tr>\n    <tr>\n      <th>1</th>\n      <td>-122.316780</td>\n      <td>47.608643</td>\n      <td>2</td>\n      <td>Block</td>\n      <td>12TH AVE BETWEEN E CHERRY ST AND E COLUMBIA ST</td>\n      <td>1</td>\n      <td>Property Damage Only Collision</td>\n      <td>Sideswipe</td>\n      <td>2</td>\n      <td>0</td>\n      <td>...</td>\n      <td>0</td>\n      <td>2013-03-27 14:02:00</td>\n      <td>Mid-Block (not related to intersection)</td>\n      <td>NaN</td>\n      <td>N</td>\n      <td>Raining</td>\n      <td>Wet</td>\n      <td>Daylight</td>\n      <td>NaN</td>\n      <td>N</td>\n    </tr>\n    <tr>\n      <th>2</th>\n      <td>-122.344569</td>\n      <td>47.694547</td>\n      <td>3</td>\n      <td>Block</td>\n      <td>AURORA AVE N BETWEEN N 90TH ST AND N 91ST ST</td>\n      <td>2</td>\n      <td>Injury Collision</td>\n      <td>Rear Ended</td>\n      <td>5</td>\n      <td>0</td>\n      <td>...</td>\n      <td>0</td>\n      <td>2013-03-29 14:47:00</td>\n      <td>Mid-Block (not related to intersection)</td>\n      <td>NaN</td>\n      <td>N</td>\n      <td>Clear</td>\n      <td>Dry</td>\n      <td>Daylight</td>\n      <td>NaN</td>\n      <td>N</td>\n    </tr>\n    <tr>\n      <th>3</th>\n      <td>-122.365999</td>\n      <td>47.691729</td>\n      <td>4</td>\n      <td>Block</td>\n      <td>8TH AVE NW BETWEEN NW 86TH ST AND NW 87TH ST</td>\n      <td>0</td>\n      <td>Unknown</td>\n      <td>NaN</td>\n      <td>0</td>\n      <td>0</td>\n      <td>...</td>\n      <td>0</td>\n      <td>2019-08-10 00:00:00</td>\n      <td>Mid-Block (not related to intersection)</td>\n      <td>NaN</td>\n      <td>NaN</td>\n      <td>NaN</td>\n      <td>NaN</td>\n      <td>NaN</td>\n      <td>NaN</td>\n      <td>Y</td>\n    </tr>\n    <tr>\n      <th>4</th>\n      <td>NaN</td>\n      <td>NaN</td>\n      <td>5</td>\n      <td>Block</td>\n      <td>ALASKAN WY VI NB BETWEEN S ROYAL BROUGHAM WAY ...</td>\n      <td>1</td>\n      <td>Property Damage Only Collision</td>\n      <td>Other</td>\n      <td>1</td>\n      <td>0</td>\n      <td>...</td>\n      <td>0</td>\n      <td>2004-12-23 00:20:00</td>\n      <td>Mid-Block (not related to intersection)</td>\n      <td>NaN</td>\n      <td>1</td>\n      <td>Clear</td>\n      <td>Dry</td>\n      <td>Dark - Street Lights On</td>\n      <td>NaN</td>\n      <td>N</td>\n    </tr>\n  </tbody>\n</table>\n<p>5 rows \u00d7 24 columns</p>\n</div>",
                        "text/plain": "            X          Y  OBJECTID      ADDRTYPE  \\\n0 -122.315658  47.675815         1  Intersection   \n1 -122.316780  47.608643         2         Block   \n2 -122.344569  47.694547         3         Block   \n3 -122.365999  47.691729         4         Block   \n4         NaN        NaN         5         Block   \n\n                                            LOCATION SEVERITYCODE  \\\n0                         12TH AVE NE AND NE 65TH ST            2   \n1     12TH AVE BETWEEN E CHERRY ST AND E COLUMBIA ST            1   \n2       AURORA AVE N BETWEEN N 90TH ST AND N 91ST ST            2   \n3       8TH AVE NW BETWEEN NW 86TH ST AND NW 87TH ST            0   \n4  ALASKAN WY VI NB BETWEEN S ROYAL BROUGHAM WAY ...            1   \n\n                     SEVERITYDESC COLLISIONTYPE  PERSONCOUNT  PEDCOUNT  ...  \\\n0                Injury Collision    Pedestrian            2         1  ...   \n1  Property Damage Only Collision     Sideswipe            2         0  ...   \n2                Injury Collision    Rear Ended            5         0  ...   \n3                         Unknown           NaN            0         0  ...   \n4  Property Damage Only Collision         Other            1         0  ...   \n\n   FATALITIES             INCDTTM                             JUNCTIONTYPE  \\\n0           0 2020-03-09 11:34:00   At Intersection (intersection related)   \n1           0 2013-03-27 14:02:00  Mid-Block (not related to intersection)   \n2           0 2013-03-29 14:47:00  Mid-Block (not related to intersection)   \n3           0 2019-08-10 00:00:00  Mid-Block (not related to intersection)   \n4           0 2004-12-23 00:20:00  Mid-Block (not related to intersection)   \n\n   INATTENTIONIND  UNDERINFL  WEATHER ROADCOND                LIGHTCOND  \\\n0             NaN          N    Clear      Dry                 Daylight   \n1             NaN          N  Raining      Wet                 Daylight   \n2             NaN          N    Clear      Dry                 Daylight   \n3             NaN        NaN      NaN      NaN                      NaN   \n4             NaN          1    Clear      Dry  Dark - Street Lights On   \n\n  SPEEDING HITPARKEDCAR  \n0      NaN            N  \n1      NaN            N  \n2      NaN            N  \n3      NaN            Y  \n4      NaN            N  \n\n[5 rows x 24 columns]"
                    },
                    "execution_count": 52,
                    "metadata": {},
                    "output_type": "execute_result"
                }
            ],
            "source": "#Taking a look into the dataframe\ncollisions_raw.head()"
        },
        {
            "cell_type": "code",
            "execution_count": 53,
            "metadata": {},
            "outputs": [
                {
                    "data": {
                        "text/html": "<div>\n<style scoped>\n    .dataframe tbody tr th:only-of-type {\n        vertical-align: middle;\n    }\n\n    .dataframe tbody tr th {\n        vertical-align: top;\n    }\n\n    .dataframe thead th {\n        text-align: right;\n    }\n</style>\n<table border=\"1\" class=\"dataframe\">\n  <thead>\n    <tr style=\"text-align: right;\">\n      <th></th>\n      <th>X</th>\n      <th>Y</th>\n      <th>OBJECTID</th>\n      <th>PERSONCOUNT</th>\n      <th>PEDCOUNT</th>\n      <th>PEDCYLCOUNT</th>\n      <th>VEHCOUNT</th>\n      <th>INJURIES</th>\n      <th>SERIOUSINJURIES</th>\n      <th>FATALITIES</th>\n    </tr>\n  </thead>\n  <tbody>\n    <tr>\n      <th>count</th>\n      <td>215093.000000</td>\n      <td>215093.000000</td>\n      <td>222581.000000</td>\n      <td>222581.000000</td>\n      <td>222581.000000</td>\n      <td>222581.000000</td>\n      <td>222581.000000</td>\n      <td>222581.000000</td>\n      <td>222581.000000</td>\n      <td>222581.000000</td>\n    </tr>\n    <tr>\n      <th>mean</th>\n      <td>-122.330753</td>\n      <td>47.620179</td>\n      <td>111291.000000</td>\n      <td>2.226659</td>\n      <td>0.038094</td>\n      <td>0.027352</td>\n      <td>1.729024</td>\n      <td>0.373918</td>\n      <td>0.015235</td>\n      <td>0.001716</td>\n    </tr>\n    <tr>\n      <th>std</th>\n      <td>0.030063</td>\n      <td>0.056079</td>\n      <td>64253.744471</td>\n      <td>1.468774</td>\n      <td>0.201664</td>\n      <td>0.164506</td>\n      <td>0.831112</td>\n      <td>0.731863</td>\n      <td>0.158012</td>\n      <td>0.045031</td>\n    </tr>\n    <tr>\n      <th>min</th>\n      <td>-122.425315</td>\n      <td>47.495573</td>\n      <td>1.000000</td>\n      <td>0.000000</td>\n      <td>0.000000</td>\n      <td>0.000000</td>\n      <td>0.000000</td>\n      <td>0.000000</td>\n      <td>0.000000</td>\n      <td>0.000000</td>\n    </tr>\n    <tr>\n      <th>25%</th>\n      <td>-122.349280</td>\n      <td>47.576979</td>\n      <td>55646.000000</td>\n      <td>2.000000</td>\n      <td>0.000000</td>\n      <td>0.000000</td>\n      <td>2.000000</td>\n      <td>0.000000</td>\n      <td>0.000000</td>\n      <td>0.000000</td>\n    </tr>\n    <tr>\n      <th>50%</th>\n      <td>-122.330372</td>\n      <td>47.616033</td>\n      <td>111291.000000</td>\n      <td>2.000000</td>\n      <td>0.000000</td>\n      <td>0.000000</td>\n      <td>2.000000</td>\n      <td>0.000000</td>\n      <td>0.000000</td>\n      <td>0.000000</td>\n    </tr>\n    <tr>\n      <th>75%</th>\n      <td>-122.311998</td>\n      <td>47.664291</td>\n      <td>166936.000000</td>\n      <td>3.000000</td>\n      <td>0.000000</td>\n      <td>0.000000</td>\n      <td>2.000000</td>\n      <td>1.000000</td>\n      <td>0.000000</td>\n      <td>0.000000</td>\n    </tr>\n    <tr>\n      <th>max</th>\n      <td>-122.238949</td>\n      <td>47.734142</td>\n      <td>222581.000000</td>\n      <td>93.000000</td>\n      <td>6.000000</td>\n      <td>2.000000</td>\n      <td>15.000000</td>\n      <td>78.000000</td>\n      <td>41.000000</td>\n      <td>5.000000</td>\n    </tr>\n  </tbody>\n</table>\n</div>",
                        "text/plain": "                   X              Y       OBJECTID    PERSONCOUNT  \\\ncount  215093.000000  215093.000000  222581.000000  222581.000000   \nmean     -122.330753      47.620179  111291.000000       2.226659   \nstd         0.030063       0.056079   64253.744471       1.468774   \nmin      -122.425315      47.495573       1.000000       0.000000   \n25%      -122.349280      47.576979   55646.000000       2.000000   \n50%      -122.330372      47.616033  111291.000000       2.000000   \n75%      -122.311998      47.664291  166936.000000       3.000000   \nmax      -122.238949      47.734142  222581.000000      93.000000   \n\n            PEDCOUNT    PEDCYLCOUNT       VEHCOUNT       INJURIES  \\\ncount  222581.000000  222581.000000  222581.000000  222581.000000   \nmean        0.038094       0.027352       1.729024       0.373918   \nstd         0.201664       0.164506       0.831112       0.731863   \nmin         0.000000       0.000000       0.000000       0.000000   \n25%         0.000000       0.000000       2.000000       0.000000   \n50%         0.000000       0.000000       2.000000       0.000000   \n75%         0.000000       0.000000       2.000000       1.000000   \nmax         6.000000       2.000000      15.000000      78.000000   \n\n       SERIOUSINJURIES     FATALITIES  \ncount    222581.000000  222581.000000  \nmean          0.015235       0.001716  \nstd           0.158012       0.045031  \nmin           0.000000       0.000000  \n25%           0.000000       0.000000  \n50%           0.000000       0.000000  \n75%           0.000000       0.000000  \nmax          41.000000       5.000000  "
                    },
                    "execution_count": 53,
                    "metadata": {},
                    "output_type": "execute_result"
                }
            ],
            "source": "collisions_raw.describe()"
        },
        {
            "cell_type": "code",
            "execution_count": 54,
            "metadata": {},
            "outputs": [
                {
                    "name": "stdout",
                    "output_type": "stream",
                    "text": "<class 'pandas.core.frame.DataFrame'>\nRangeIndex: 222581 entries, 0 to 222580\nData columns (total 24 columns):\n #   Column           Non-Null Count   Dtype         \n---  ------           --------------   -----         \n 0   X                215093 non-null  float64       \n 1   Y                215093 non-null  float64       \n 2   OBJECTID         222581 non-null  int64         \n 3   ADDRTYPE         218858 non-null  object        \n 4   LOCATION         217979 non-null  object        \n 5   SEVERITYCODE     222580 non-null  object        \n 6   SEVERITYDESC     222581 non-null  object        \n 7   COLLISIONTYPE    195981 non-null  object        \n 8   PERSONCOUNT      222581 non-null  int64         \n 9   PEDCOUNT         222581 non-null  int64         \n 10  PEDCYLCOUNT      222581 non-null  int64         \n 11  VEHCOUNT         222581 non-null  int64         \n 12  INJURIES         222581 non-null  int64         \n 13  SERIOUSINJURIES  222581 non-null  int64         \n 14  FATALITIES       222581 non-null  int64         \n 15  INCDTTM          222581 non-null  datetime64[ns]\n 16  JUNCTIONTYPE     210579 non-null  object        \n 17  INATTENTIONIND   30195 non-null   object        \n 18  UNDERINFL        196001 non-null  object        \n 19  WEATHER          195790 non-null  object        \n 20  ROADCOND         195871 non-null  object        \n 21  LIGHTCOND        195701 non-null  object        \n 22  SPEEDING         9982 non-null    object        \n 23  HITPARKEDCAR     222581 non-null  object        \ndtypes: datetime64[ns](1), float64(2), int64(8), object(13)\nmemory usage: 40.8+ MB\n\n The dataset has 222581 records and 24 collumns (target variable and attributes).\n"
                }
            ],
            "source": "collisions_raw.info()\nprint(\"\\n The dataset has\", collisions_raw.shape[0],\"records and\", collisions_raw.shape[1], \"collumns (target variable and attributes).\")"
        },
        {
            "cell_type": "markdown",
            "metadata": {},
            "source": "### 3.3 Preliminary data preparation"
        },
        {
            "cell_type": "code",
            "execution_count": 55,
            "metadata": {},
            "outputs": [
                {
                    "data": {
                        "text/html": "<div>\n<style scoped>\n    .dataframe tbody tr th:only-of-type {\n        vertical-align: middle;\n    }\n\n    .dataframe tbody tr th {\n        vertical-align: top;\n    }\n\n    .dataframe thead th {\n        text-align: right;\n    }\n</style>\n<table border=\"1\" class=\"dataframe\">\n  <thead>\n    <tr style=\"text-align: right;\">\n      <th></th>\n      <th>0</th>\n    </tr>\n  </thead>\n  <tbody>\n    <tr>\n      <th>X</th>\n      <td>7488</td>\n    </tr>\n    <tr>\n      <th>Y</th>\n      <td>7488</td>\n    </tr>\n    <tr>\n      <th>OBJECTID</th>\n      <td>0</td>\n    </tr>\n    <tr>\n      <th>ADDRTYPE</th>\n      <td>3723</td>\n    </tr>\n    <tr>\n      <th>LOCATION</th>\n      <td>4602</td>\n    </tr>\n    <tr>\n      <th>SEVERITYCODE</th>\n      <td>1</td>\n    </tr>\n    <tr>\n      <th>SEVERITYDESC</th>\n      <td>0</td>\n    </tr>\n    <tr>\n      <th>COLLISIONTYPE</th>\n      <td>26600</td>\n    </tr>\n    <tr>\n      <th>PERSONCOUNT</th>\n      <td>0</td>\n    </tr>\n    <tr>\n      <th>PEDCOUNT</th>\n      <td>0</td>\n    </tr>\n    <tr>\n      <th>PEDCYLCOUNT</th>\n      <td>0</td>\n    </tr>\n    <tr>\n      <th>VEHCOUNT</th>\n      <td>0</td>\n    </tr>\n    <tr>\n      <th>INJURIES</th>\n      <td>0</td>\n    </tr>\n    <tr>\n      <th>SERIOUSINJURIES</th>\n      <td>0</td>\n    </tr>\n    <tr>\n      <th>FATALITIES</th>\n      <td>0</td>\n    </tr>\n    <tr>\n      <th>INCDTTM</th>\n      <td>0</td>\n    </tr>\n    <tr>\n      <th>JUNCTIONTYPE</th>\n      <td>12002</td>\n    </tr>\n    <tr>\n      <th>INATTENTIONIND</th>\n      <td>192386</td>\n    </tr>\n    <tr>\n      <th>UNDERINFL</th>\n      <td>26580</td>\n    </tr>\n    <tr>\n      <th>WEATHER</th>\n      <td>26791</td>\n    </tr>\n    <tr>\n      <th>ROADCOND</th>\n      <td>26710</td>\n    </tr>\n    <tr>\n      <th>LIGHTCOND</th>\n      <td>26880</td>\n    </tr>\n    <tr>\n      <th>SPEEDING</th>\n      <td>212599</td>\n    </tr>\n    <tr>\n      <th>HITPARKEDCAR</th>\n      <td>0</td>\n    </tr>\n  </tbody>\n</table>\n</div>",
                        "text/plain": "                      0\nX                  7488\nY                  7488\nOBJECTID              0\nADDRTYPE           3723\nLOCATION           4602\nSEVERITYCODE          1\nSEVERITYDESC          0\nCOLLISIONTYPE     26600\nPERSONCOUNT           0\nPEDCOUNT              0\nPEDCYLCOUNT           0\nVEHCOUNT              0\nINJURIES              0\nSERIOUSINJURIES       0\nFATALITIES            0\nINCDTTM               0\nJUNCTIONTYPE      12002\nINATTENTIONIND   192386\nUNDERINFL         26580\nWEATHER           26791\nROADCOND          26710\nLIGHTCOND         26880\nSPEEDING         212599\nHITPARKEDCAR          0"
                    },
                    "execution_count": 55,
                    "metadata": {},
                    "output_type": "execute_result"
                }
            ],
            "source": "#Checking if there are any missing values\ncollisions_raw.isna().sum().to_frame()"
        },
        {
            "cell_type": "markdown",
            "metadata": {},
            "source": "The attributes \"INATTENTIONIND\" and \"SPEEDING\" attracts our attention. There are just a few registers of them: 9,982 registers for the \"SPEEDING\" attribute and 30,195 for the \"INATTENTIONIND\" atrribute. This amounts to of 4.5% and 13.5% of the data, respectively. Because of these few quantity of records, we choose to delete them.  \n\nThe others attributes has just a few missing data, so we will treat them later."
        },
        {
            "cell_type": "code",
            "execution_count": 56,
            "metadata": {},
            "outputs": [
                {
                    "name": "stdout",
                    "output_type": "stream",
                    "text": "\n The dataset has now 222581 records and 22 collumns (target variable and attributes).\n"
                }
            ],
            "source": "collisions_raw.drop(columns=['SPEEDING','INATTENTIONIND'], inplace=True) #dropping the attributes\nprint(\"\\n The dataset has now\", collisions_raw.shape[0],\"records and\", collisions_raw.shape[1], \"collumns (target variable and attributes).\")"
        },
        {
            "cell_type": "code",
            "execution_count": 57,
            "metadata": {},
            "outputs": [
                {
                    "name": "stdout",
                    "output_type": "stream",
                    "text": "X [-122.31565805 -122.31677994 -122.34456926 ... -122.3392689  -122.28595855\n -122.35335875] \n\nY [47.67581493 47.60864269 47.6945466  ... 47.66708309 47.71189454\n 47.67604535] \n\nOBJECTID [     1      2      3 ... 222579 222580 222581] \n\nADDRTYPE ['Intersection' 'Block' 'Alley' nan] \n\nLOCATION ['12TH AVE NE AND NE 65TH ST'\n '12TH AVE BETWEEN E CHERRY ST AND E COLUMBIA ST'\n 'AURORA AVE N BETWEEN N 90TH ST AND N 91ST ST' ...\n 'NE 115TH ST BETWEEN 39TH AVE NE AND 40TH AVE NE'\n 'FRANCIS AVE N AND N 65TH ST' '42ND AVE S AND DEAD END 1'] \n\nSEVERITYCODE ['2' '1' '0' '2b' '3' nan] \n\nSEVERITYDESC ['Injury Collision' 'Property Damage Only Collision' 'Unknown'\n 'Serious Injury Collision' 'Fatality Collision'] \n\nCOLLISIONTYPE ['Pedestrian' 'Sideswipe' 'Rear Ended' nan 'Other' 'Parked Car'\n 'Left Turn' 'Head On' 'Angles' 'Right Turn' 'Cycles'] \n\nPERSONCOUNT [ 2  5  0  1  3  4  6  7  8 11 16 12  9 17 26 13 22 37 10 36 28 14 19 53\n 30 29 23 44 15 32 21 20 27 41 35 43 81 18 25 48 24 34 57 39 47 31 54 93] \n\nPEDCOUNT [1 0 2 3 4 5 6] \n\nPEDCYLCOUNT [0 1 2] \n\nVEHCOUNT [ 1  2  3  0  4  6  7  5  8 11  9 14 10 12 13 15] \n\nINJURIES [ 1  0  2  3  4  5  6  7  8 11  9 10 13 12 15 78] \n\nSERIOUSINJURIES [ 0  1  2  3  5  4 41] \n\nFATALITIES [0 2 1 4 3 5] \n\nINCDTTM ['2020-03-09T11:34:00.000000000' '2013-03-27T14:02:00.000000000'\n '2013-03-29T14:47:00.000000000' ... '2019-09-11T09:51:00.000000000'\n '2019-09-04T17:09:00.000000000' '2019-09-03T20:09:00.000000000'] \n\nJUNCTIONTYPE ['At Intersection (intersection related)'\n 'Mid-Block (not related to intersection)'\n 'Mid-Block (but intersection related)' 'Driveway Junction'\n 'At Intersection (but not related to intersection)' nan 'Ramp Junction'\n 'Unknown'] \n\nUNDERINFL ['N' nan '1' '0' 'Y'] \n\nWEATHER ['Clear' 'Raining' nan 'Overcast' 'Unknown' 'Other' 'Snowing'\n 'Fog/Smog/Smoke' 'Sleet/Hail/Freezing Rain' 'Blowing Sand/Dirt'\n 'Severe Crosswind' 'Partly Cloudy' 'Blowing Snow'] \n\nROADCOND ['Dry' 'Wet' nan 'Unknown' 'Ice' 'Snow/Slush' 'Other' 'Sand/Mud/Dirt'\n 'Standing Water' 'Oil'] \n\nLIGHTCOND ['Daylight' nan 'Dark - Street Lights On' 'Unknown' 'Dawn' 'Dusk' 'Other'\n 'Dark - Street Lights Off' 'Dark - Unknown Lighting'\n 'Dark - No Street Lights'] \n\nHITPARKEDCAR ['N' 'Y'] \n\n"
                }
            ],
            "source": "#Checking the unique values of some attributes just to see if we have something wrong.\nfor i in collisions_raw.columns:\n    print(i, collisions_raw[i].unique(),'\\n')"
        },
        {
            "cell_type": "markdown",
            "metadata": {},
            "source": "Now, it's importanting to correct the data of the \"UNDERINFL\" attribute. Let's transforming all the zero values to \"N\" and all of the ones values to \"Y\"."
        },
        {
            "cell_type": "code",
            "execution_count": 58,
            "metadata": {},
            "outputs": [
                {
                    "data": {
                        "text/plain": "array(['N', nan, 'Y'], dtype=object)"
                    },
                    "execution_count": 58,
                    "metadata": {},
                    "output_type": "execute_result"
                }
            ],
            "source": "collisions_raw['UNDERINFL'].replace(\"0\",\"N\",inplace=True)\ncollisions_raw['UNDERINFL'].replace(\"1\",\"Y\",inplace=True)\ncollisions_raw['UNDERINFL'].unique()"
        },
        {
            "cell_type": "markdown",
            "metadata": {},
            "source": "To expand our analysis, we will add columns for ther years and the months."
        },
        {
            "cell_type": "code",
            "execution_count": 84,
            "metadata": {},
            "outputs": [
                {
                    "data": {
                        "text/html": "<div>\n<style scoped>\n    .dataframe tbody tr th:only-of-type {\n        vertical-align: middle;\n    }\n\n    .dataframe tbody tr th {\n        vertical-align: top;\n    }\n\n    .dataframe thead th {\n        text-align: right;\n    }\n</style>\n<table border=\"1\" class=\"dataframe\">\n  <thead>\n    <tr style=\"text-align: right;\">\n      <th></th>\n      <th>INCDTTM</th>\n      <th>MONTH</th>\n      <th>YEAR</th>\n    </tr>\n  </thead>\n  <tbody>\n    <tr>\n      <th>0</th>\n      <td>2020-03-09 11:34:00</td>\n      <td>3</td>\n      <td>2020</td>\n    </tr>\n    <tr>\n      <th>1</th>\n      <td>2013-03-27 14:02:00</td>\n      <td>3</td>\n      <td>2013</td>\n    </tr>\n    <tr>\n      <th>2</th>\n      <td>2013-03-29 14:47:00</td>\n      <td>3</td>\n      <td>2013</td>\n    </tr>\n    <tr>\n      <th>3</th>\n      <td>2019-08-10 00:00:00</td>\n      <td>8</td>\n      <td>2019</td>\n    </tr>\n    <tr>\n      <th>4</th>\n      <td>2004-12-23 00:20:00</td>\n      <td>12</td>\n      <td>2004</td>\n    </tr>\n    <tr>\n      <th>5</th>\n      <td>2006-02-21 00:13:00</td>\n      <td>2</td>\n      <td>2006</td>\n    </tr>\n    <tr>\n      <th>6</th>\n      <td>2005-05-27 06:00:00</td>\n      <td>5</td>\n      <td>2005</td>\n    </tr>\n    <tr>\n      <th>7</th>\n      <td>2013-03-25 02:27:00</td>\n      <td>3</td>\n      <td>2013</td>\n    </tr>\n    <tr>\n      <th>8</th>\n      <td>2013-03-30 20:47:00</td>\n      <td>3</td>\n      <td>2013</td>\n    </tr>\n    <tr>\n      <th>9</th>\n      <td>2007-10-09 00:00:00</td>\n      <td>10</td>\n      <td>2007</td>\n    </tr>\n  </tbody>\n</table>\n</div>",
                        "text/plain": "              INCDTTM  MONTH  YEAR\n0 2020-03-09 11:34:00      3  2020\n1 2013-03-27 14:02:00      3  2013\n2 2013-03-29 14:47:00      3  2013\n3 2019-08-10 00:00:00      8  2019\n4 2004-12-23 00:20:00     12  2004\n5 2006-02-21 00:13:00      2  2006\n6 2005-05-27 06:00:00      5  2005\n7 2013-03-25 02:27:00      3  2013\n8 2013-03-30 20:47:00      3  2013\n9 2007-10-09 00:00:00     10  2007"
                    },
                    "execution_count": 84,
                    "metadata": {},
                    "output_type": "execute_result"
                }
            ],
            "source": "collisions_raw['YEAR']=collisions_raw['INCDTTM'].dt.year\ncollisions_raw['MONTH']=collisions_raw['INCDTTM'].dt.month\ncollisions_raw[['INCDTTM','MONTH','YEAR']].head(10)"
        },
        {
            "cell_type": "markdown",
            "metadata": {},
            "source": "Let's see how the data is distributed over time."
        },
        {
            "cell_type": "code",
            "execution_count": 95,
            "metadata": {},
            "outputs": [
                {
                    "data": {
                        "text/html": "<div>\n<style scoped>\n    .dataframe tbody tr th:only-of-type {\n        vertical-align: middle;\n    }\n\n    .dataframe tbody tr th {\n        vertical-align: top;\n    }\n\n    .dataframe thead th {\n        text-align: right;\n    }\n</style>\n<table border=\"1\" class=\"dataframe\">\n  <thead>\n    <tr style=\"text-align: right;\">\n      <th></th>\n      <th>TOTAL_RECORDS</th>\n    </tr>\n    <tr>\n      <th>YEAR</th>\n      <th></th>\n    </tr>\n  </thead>\n  <tbody>\n    <tr>\n      <th>2003</th>\n      <td>1</td>\n    </tr>\n    <tr>\n      <th>2004</th>\n      <td>15457</td>\n    </tr>\n    <tr>\n      <th>2005</th>\n      <td>16016</td>\n    </tr>\n    <tr>\n      <th>2006</th>\n      <td>15794</td>\n    </tr>\n    <tr>\n      <th>2007</th>\n      <td>15082</td>\n    </tr>\n    <tr>\n      <th>2008</th>\n      <td>14139</td>\n    </tr>\n    <tr>\n      <th>2009</th>\n      <td>13275</td>\n    </tr>\n    <tr>\n      <th>2010</th>\n      <td>11958</td>\n    </tr>\n    <tr>\n      <th>2011</th>\n      <td>12417</td>\n    </tr>\n    <tr>\n      <th>2012</th>\n      <td>12732</td>\n    </tr>\n    <tr>\n      <th>2013</th>\n      <td>12757</td>\n    </tr>\n    <tr>\n      <th>2014</th>\n      <td>13212</td>\n    </tr>\n    <tr>\n      <th>2015</th>\n      <td>14260</td>\n    </tr>\n    <tr>\n      <th>2016</th>\n      <td>13955</td>\n    </tr>\n    <tr>\n      <th>2017</th>\n      <td>12477</td>\n    </tr>\n    <tr>\n      <th>2018</th>\n      <td>12198</td>\n    </tr>\n    <tr>\n      <th>2019</th>\n      <td>11205</td>\n    </tr>\n    <tr>\n      <th>2020</th>\n      <td>5646</td>\n    </tr>\n  </tbody>\n</table>\n</div>",
                        "text/plain": "      TOTAL_RECORDS\nYEAR               \n2003              1\n2004          15457\n2005          16016\n2006          15794\n2007          15082\n2008          14139\n2009          13275\n2010          11958\n2011          12417\n2012          12732\n2013          12757\n2014          13212\n2015          14260\n2016          13955\n2017          12477\n2018          12198\n2019          11205\n2020           5646"
                    },
                    "execution_count": 95,
                    "metadata": {},
                    "output_type": "execute_result"
                }
            ],
            "source": "df_records_yr = collisions_raw[['YEAR','OBJECTID']].groupby(by=['YEAR']).count()\ndf_records_yr = df_records_yr.rename(columns={'OBJECTID': 'TOTAL_RECORDS'})\ndf_records_yr"
        },
        {
            "cell_type": "markdown",
            "metadata": {},
            "source": "There is only one record for the 2003 year. So we can delete this information."
        },
        {
            "cell_type": "code",
            "execution_count": 91,
            "metadata": {},
            "outputs": [
                {
                    "data": {
                        "text/html": "<div>\n<style scoped>\n    .dataframe tbody tr th:only-of-type {\n        vertical-align: middle;\n    }\n\n    .dataframe tbody tr th {\n        vertical-align: top;\n    }\n\n    .dataframe thead th {\n        text-align: right;\n    }\n</style>\n<table border=\"1\" class=\"dataframe\">\n  <thead>\n    <tr style=\"text-align: right;\">\n      <th></th>\n      <th>X</th>\n      <th>Y</th>\n      <th>OBJECTID</th>\n      <th>ADDRTYPE</th>\n      <th>LOCATION</th>\n      <th>SEVERITYCODE</th>\n      <th>SEVERITYDESC</th>\n      <th>COLLISIONTYPE</th>\n      <th>PERSONCOUNT</th>\n      <th>PEDCOUNT</th>\n      <th>...</th>\n      <th>FATALITIES</th>\n      <th>INCDTTM</th>\n      <th>JUNCTIONTYPE</th>\n      <th>UNDERINFL</th>\n      <th>WEATHER</th>\n      <th>ROADCOND</th>\n      <th>LIGHTCOND</th>\n      <th>HITPARKEDCAR</th>\n      <th>YEAR</th>\n      <th>MONTH</th>\n    </tr>\n  </thead>\n  <tbody>\n    <tr>\n      <th>802</th>\n      <td>-122.320755</td>\n      <td>47.608073</td>\n      <td>803</td>\n      <td>Intersection</td>\n      <td>BROADWAY AND CHERRY ST</td>\n      <td>0</td>\n      <td>Unknown</td>\n      <td>NaN</td>\n      <td>0</td>\n      <td>0</td>\n      <td>...</td>\n      <td>0</td>\n      <td>2003-10-06</td>\n      <td>NaN</td>\n      <td>NaN</td>\n      <td>NaN</td>\n      <td>NaN</td>\n      <td>NaN</td>\n      <td>N</td>\n      <td>2003</td>\n      <td>10</td>\n    </tr>\n  </tbody>\n</table>\n<p>1 rows \u00d7 24 columns</p>\n</div>",
                        "text/plain": "              X          Y  OBJECTID      ADDRTYPE                LOCATION  \\\n802 -122.320755  47.608073       803  Intersection  BROADWAY AND CHERRY ST   \n\n    SEVERITYCODE SEVERITYDESC COLLISIONTYPE  PERSONCOUNT  PEDCOUNT  ...  \\\n802            0      Unknown           NaN            0         0  ...   \n\n     FATALITIES    INCDTTM  JUNCTIONTYPE  UNDERINFL  WEATHER ROADCOND  \\\n802           0 2003-10-06           NaN        NaN      NaN      NaN   \n\n    LIGHTCOND HITPARKEDCAR  YEAR MONTH  \n802       NaN            N  2003    10  \n\n[1 rows x 24 columns]"
                    },
                    "execution_count": 91,
                    "metadata": {},
                    "output_type": "execute_result"
                }
            ],
            "source": "collisions_raw.query('YEAR == \"2003\"')"
        },
        {
            "cell_type": "code",
            "execution_count": 117,
            "metadata": {},
            "outputs": [
                {
                    "name": "stdout",
                    "output_type": "stream",
                    "text": "Record deleted!\n"
                }
            ],
            "source": "collisions_raw = collisions_raw.query('YEAR != \"2003\"')\ndf_records_yr = df_records_yr.query('YEAR != \"2003\"')\nprint('Record deleted!')"
        },
        {
            "cell_type": "code",
            "execution_count": 119,
            "metadata": {},
            "outputs": [
                {
                    "data": {
                        "image/png": "[encoded data removed]",
                        "text/plain": "<Figure size 432x288 with 1 Axes>"
                    },
                    "metadata": {
                        "needs_background": "light"
                    },
                    "output_type": "display_data"
                }
            ],
            "source": "df_records_yr.plot(kind='bar')\nplt.show()"
        },
        {
            "cell_type": "code",
            "execution_count": 127,
            "metadata": {},
            "outputs": [
                {
                    "name": "stdout",
                    "output_type": "stream",
                    "text": "Our first record is on: 2004-01-01\nOur last record is on: 2020-11-04\n"
                }
            ],
            "source": "print('Our first record is on:', collisions_raw['INCDTTM'].dt.date.min())\nprint('Our last record is on:', collisions_raw['INCDTTM'].dt.date.max())"
        },
        {
            "cell_type": "markdown",
            "metadata": {},
            "source": "That's the dataframe after the adjustments."
        },
        {
            "cell_type": "code",
            "execution_count": 128,
            "metadata": {},
            "outputs": [
                {
                    "data": {
                        "text/html": "<div>\n<style scoped>\n    .dataframe tbody tr th:only-of-type {\n        vertical-align: middle;\n    }\n\n    .dataframe tbody tr th {\n        vertical-align: top;\n    }\n\n    .dataframe thead th {\n        text-align: right;\n    }\n</style>\n<table border=\"1\" class=\"dataframe\">\n  <thead>\n    <tr style=\"text-align: right;\">\n      <th></th>\n      <th>X</th>\n      <th>Y</th>\n      <th>OBJECTID</th>\n      <th>ADDRTYPE</th>\n      <th>LOCATION</th>\n      <th>SEVERITYCODE</th>\n      <th>SEVERITYDESC</th>\n      <th>COLLISIONTYPE</th>\n      <th>PERSONCOUNT</th>\n      <th>PEDCOUNT</th>\n      <th>...</th>\n      <th>FATALITIES</th>\n      <th>INCDTTM</th>\n      <th>JUNCTIONTYPE</th>\n      <th>UNDERINFL</th>\n      <th>WEATHER</th>\n      <th>ROADCOND</th>\n      <th>LIGHTCOND</th>\n      <th>HITPARKEDCAR</th>\n      <th>YEAR</th>\n      <th>MONTH</th>\n    </tr>\n  </thead>\n  <tbody>\n    <tr>\n      <th>0</th>\n      <td>-122.315658</td>\n      <td>47.675815</td>\n      <td>1</td>\n      <td>Intersection</td>\n      <td>12TH AVE NE AND NE 65TH ST</td>\n      <td>2</td>\n      <td>Injury Collision</td>\n      <td>Pedestrian</td>\n      <td>2</td>\n      <td>1</td>\n      <td>...</td>\n      <td>0</td>\n      <td>2020-03-09 11:34:00</td>\n      <td>At Intersection (intersection related)</td>\n      <td>N</td>\n      <td>Clear</td>\n      <td>Dry</td>\n      <td>Daylight</td>\n      <td>N</td>\n      <td>2020</td>\n      <td>3</td>\n    </tr>\n    <tr>\n      <th>1</th>\n      <td>-122.316780</td>\n      <td>47.608643</td>\n      <td>2</td>\n      <td>Block</td>\n      <td>12TH AVE BETWEEN E CHERRY ST AND E COLUMBIA ST</td>\n      <td>1</td>\n      <td>Property Damage Only Collision</td>\n      <td>Sideswipe</td>\n      <td>2</td>\n      <td>0</td>\n      <td>...</td>\n      <td>0</td>\n      <td>2013-03-27 14:02:00</td>\n      <td>Mid-Block (not related to intersection)</td>\n      <td>N</td>\n      <td>Raining</td>\n      <td>Wet</td>\n      <td>Daylight</td>\n      <td>N</td>\n      <td>2013</td>\n      <td>3</td>\n    </tr>\n    <tr>\n      <th>2</th>\n      <td>-122.344569</td>\n      <td>47.694547</td>\n      <td>3</td>\n      <td>Block</td>\n      <td>AURORA AVE N BETWEEN N 90TH ST AND N 91ST ST</td>\n      <td>2</td>\n      <td>Injury Collision</td>\n      <td>Rear Ended</td>\n      <td>5</td>\n      <td>0</td>\n      <td>...</td>\n      <td>0</td>\n      <td>2013-03-29 14:47:00</td>\n      <td>Mid-Block (not related to intersection)</td>\n      <td>N</td>\n      <td>Clear</td>\n      <td>Dry</td>\n      <td>Daylight</td>\n      <td>N</td>\n      <td>2013</td>\n      <td>3</td>\n    </tr>\n    <tr>\n      <th>3</th>\n      <td>-122.365999</td>\n      <td>47.691729</td>\n      <td>4</td>\n      <td>Block</td>\n      <td>8TH AVE NW BETWEEN NW 86TH ST AND NW 87TH ST</td>\n      <td>0</td>\n      <td>Unknown</td>\n      <td>NaN</td>\n      <td>0</td>\n      <td>0</td>\n      <td>...</td>\n      <td>0</td>\n      <td>2019-08-10 00:00:00</td>\n      <td>Mid-Block (not related to intersection)</td>\n      <td>NaN</td>\n      <td>NaN</td>\n      <td>NaN</td>\n      <td>NaN</td>\n      <td>Y</td>\n      <td>2019</td>\n      <td>8</td>\n    </tr>\n    <tr>\n      <th>4</th>\n      <td>NaN</td>\n      <td>NaN</td>\n      <td>5</td>\n      <td>Block</td>\n      <td>ALASKAN WY VI NB BETWEEN S ROYAL BROUGHAM WAY ...</td>\n      <td>1</td>\n      <td>Property Damage Only Collision</td>\n      <td>Other</td>\n      <td>1</td>\n      <td>0</td>\n      <td>...</td>\n      <td>0</td>\n      <td>2004-12-23 00:20:00</td>\n      <td>Mid-Block (not related to intersection)</td>\n      <td>Y</td>\n      <td>Clear</td>\n      <td>Dry</td>\n      <td>Dark - Street Lights On</td>\n      <td>N</td>\n      <td>2004</td>\n      <td>12</td>\n    </tr>\n  </tbody>\n</table>\n<p>5 rows \u00d7 24 columns</p>\n</div>",
                        "text/plain": "            X          Y  OBJECTID      ADDRTYPE  \\\n0 -122.315658  47.675815         1  Intersection   \n1 -122.316780  47.608643         2         Block   \n2 -122.344569  47.694547         3         Block   \n3 -122.365999  47.691729         4         Block   \n4         NaN        NaN         5         Block   \n\n                                            LOCATION SEVERITYCODE  \\\n0                         12TH AVE NE AND NE 65TH ST            2   \n1     12TH AVE BETWEEN E CHERRY ST AND E COLUMBIA ST            1   \n2       AURORA AVE N BETWEEN N 90TH ST AND N 91ST ST            2   \n3       8TH AVE NW BETWEEN NW 86TH ST AND NW 87TH ST            0   \n4  ALASKAN WY VI NB BETWEEN S ROYAL BROUGHAM WAY ...            1   \n\n                     SEVERITYDESC COLLISIONTYPE  PERSONCOUNT  PEDCOUNT  ...  \\\n0                Injury Collision    Pedestrian            2         1  ...   \n1  Property Damage Only Collision     Sideswipe            2         0  ...   \n2                Injury Collision    Rear Ended            5         0  ...   \n3                         Unknown           NaN            0         0  ...   \n4  Property Damage Only Collision         Other            1         0  ...   \n\n   FATALITIES             INCDTTM                             JUNCTIONTYPE  \\\n0           0 2020-03-09 11:34:00   At Intersection (intersection related)   \n1           0 2013-03-27 14:02:00  Mid-Block (not related to intersection)   \n2           0 2013-03-29 14:47:00  Mid-Block (not related to intersection)   \n3           0 2019-08-10 00:00:00  Mid-Block (not related to intersection)   \n4           0 2004-12-23 00:20:00  Mid-Block (not related to intersection)   \n\n   UNDERINFL  WEATHER ROADCOND                LIGHTCOND HITPARKEDCAR  YEAR  \\\n0          N    Clear      Dry                 Daylight            N  2020   \n1          N  Raining      Wet                 Daylight            N  2013   \n2          N    Clear      Dry                 Daylight            N  2013   \n3        NaN      NaN      NaN                      NaN            Y  2019   \n4          Y    Clear      Dry  Dark - Street Lights On            N  2004   \n\n  MONTH  \n0     3  \n1     3  \n2     3  \n3     8  \n4    12  \n\n[5 rows x 24 columns]"
                    },
                    "execution_count": 128,
                    "metadata": {},
                    "output_type": "execute_result"
                }
            ],
            "source": "collisions_raw.head()"
        },
        {
            "cell_type": "code",
            "execution_count": 129,
            "metadata": {},
            "outputs": [
                {
                    "data": {
                        "text/html": "<div>\n<style scoped>\n    .dataframe tbody tr th:only-of-type {\n        vertical-align: middle;\n    }\n\n    .dataframe tbody tr th {\n        vertical-align: top;\n    }\n\n    .dataframe thead th {\n        text-align: right;\n    }\n</style>\n<table border=\"1\" class=\"dataframe\">\n  <thead>\n    <tr style=\"text-align: right;\">\n      <th></th>\n      <th>X</th>\n      <th>Y</th>\n      <th>OBJECTID</th>\n      <th>PERSONCOUNT</th>\n      <th>PEDCOUNT</th>\n      <th>PEDCYLCOUNT</th>\n      <th>VEHCOUNT</th>\n      <th>INJURIES</th>\n      <th>SERIOUSINJURIES</th>\n      <th>FATALITIES</th>\n      <th>YEAR</th>\n      <th>MONTH</th>\n    </tr>\n  </thead>\n  <tbody>\n    <tr>\n      <th>count</th>\n      <td>215092.000000</td>\n      <td>215092.000000</td>\n      <td>222580.000000</td>\n      <td>222580.000000</td>\n      <td>222580.000000</td>\n      <td>222580.000000</td>\n      <td>222580.000000</td>\n      <td>222580.000000</td>\n      <td>222580.000000</td>\n      <td>222580.000000</td>\n      <td>222580.000000</td>\n      <td>222580.000000</td>\n    </tr>\n    <tr>\n      <th>mean</th>\n      <td>-122.330753</td>\n      <td>47.620179</td>\n      <td>111291.496397</td>\n      <td>2.226669</td>\n      <td>0.038094</td>\n      <td>0.027352</td>\n      <td>1.729032</td>\n      <td>0.373919</td>\n      <td>0.015235</td>\n      <td>0.001716</td>\n      <td>2011.363379</td>\n      <td>6.571619</td>\n    </tr>\n    <tr>\n      <th>std</th>\n      <td>0.030063</td>\n      <td>0.056080</td>\n      <td>64253.462014</td>\n      <td>1.468770</td>\n      <td>0.201665</td>\n      <td>0.164506</td>\n      <td>0.831105</td>\n      <td>0.731864</td>\n      <td>0.158012</td>\n      <td>0.045031</td>\n      <td>4.793374</td>\n      <td>3.421777</td>\n    </tr>\n    <tr>\n      <th>min</th>\n      <td>-122.425315</td>\n      <td>47.495573</td>\n      <td>1.000000</td>\n      <td>0.000000</td>\n      <td>0.000000</td>\n      <td>0.000000</td>\n      <td>0.000000</td>\n      <td>0.000000</td>\n      <td>0.000000</td>\n      <td>0.000000</td>\n      <td>2004.000000</td>\n      <td>1.000000</td>\n    </tr>\n    <tr>\n      <th>25%</th>\n      <td>-122.349280</td>\n      <td>47.576979</td>\n      <td>55646.750000</td>\n      <td>2.000000</td>\n      <td>0.000000</td>\n      <td>0.000000</td>\n      <td>2.000000</td>\n      <td>0.000000</td>\n      <td>0.000000</td>\n      <td>0.000000</td>\n      <td>2007.000000</td>\n      <td>4.000000</td>\n    </tr>\n    <tr>\n      <th>50%</th>\n      <td>-122.330375</td>\n      <td>47.616033</td>\n      <td>111291.500000</td>\n      <td>2.000000</td>\n      <td>0.000000</td>\n      <td>0.000000</td>\n      <td>2.000000</td>\n      <td>0.000000</td>\n      <td>0.000000</td>\n      <td>0.000000</td>\n      <td>2011.000000</td>\n      <td>7.000000</td>\n    </tr>\n    <tr>\n      <th>75%</th>\n      <td>-122.311998</td>\n      <td>47.664291</td>\n      <td>166936.250000</td>\n      <td>3.000000</td>\n      <td>0.000000</td>\n      <td>0.000000</td>\n      <td>2.000000</td>\n      <td>1.000000</td>\n      <td>0.000000</td>\n      <td>0.000000</td>\n      <td>2015.000000</td>\n      <td>10.000000</td>\n    </tr>\n    <tr>\n      <th>max</th>\n      <td>-122.238949</td>\n      <td>47.734142</td>\n      <td>222581.000000</td>\n      <td>93.000000</td>\n      <td>6.000000</td>\n      <td>2.000000</td>\n      <td>15.000000</td>\n      <td>78.000000</td>\n      <td>41.000000</td>\n      <td>5.000000</td>\n      <td>2020.000000</td>\n      <td>12.000000</td>\n    </tr>\n  </tbody>\n</table>\n</div>",
                        "text/plain": "                   X              Y       OBJECTID    PERSONCOUNT  \\\ncount  215092.000000  215092.000000  222580.000000  222580.000000   \nmean     -122.330753      47.620179  111291.496397       2.226669   \nstd         0.030063       0.056080   64253.462014       1.468770   \nmin      -122.425315      47.495573       1.000000       0.000000   \n25%      -122.349280      47.576979   55646.750000       2.000000   \n50%      -122.330375      47.616033  111291.500000       2.000000   \n75%      -122.311998      47.664291  166936.250000       3.000000   \nmax      -122.238949      47.734142  222581.000000      93.000000   \n\n            PEDCOUNT    PEDCYLCOUNT       VEHCOUNT       INJURIES  \\\ncount  222580.000000  222580.000000  222580.000000  222580.000000   \nmean        0.038094       0.027352       1.729032       0.373919   \nstd         0.201665       0.164506       0.831105       0.731864   \nmin         0.000000       0.000000       0.000000       0.000000   \n25%         0.000000       0.000000       2.000000       0.000000   \n50%         0.000000       0.000000       2.000000       0.000000   \n75%         0.000000       0.000000       2.000000       1.000000   \nmax         6.000000       2.000000      15.000000      78.000000   \n\n       SERIOUSINJURIES     FATALITIES           YEAR          MONTH  \ncount    222580.000000  222580.000000  222580.000000  222580.000000  \nmean          0.015235       0.001716    2011.363379       6.571619  \nstd           0.158012       0.045031       4.793374       3.421777  \nmin           0.000000       0.000000    2004.000000       1.000000  \n25%           0.000000       0.000000    2007.000000       4.000000  \n50%           0.000000       0.000000    2011.000000       7.000000  \n75%           0.000000       0.000000    2015.000000      10.000000  \nmax          41.000000       5.000000    2020.000000      12.000000  "
                    },
                    "execution_count": 129,
                    "metadata": {},
                    "output_type": "execute_result"
                }
            ],
            "source": "collisions_raw.describe()"
        },
        {
            "cell_type": "code",
            "execution_count": 130,
            "metadata": {},
            "outputs": [
                {
                    "name": "stdout",
                    "output_type": "stream",
                    "text": "<class 'pandas.core.frame.DataFrame'>\nInt64Index: 222580 entries, 0 to 222580\nData columns (total 24 columns):\n #   Column           Non-Null Count   Dtype         \n---  ------           --------------   -----         \n 0   X                215092 non-null  float64       \n 1   Y                215092 non-null  float64       \n 2   OBJECTID         222580 non-null  int64         \n 3   ADDRTYPE         218857 non-null  object        \n 4   LOCATION         217978 non-null  object        \n 5   SEVERITYCODE     222579 non-null  object        \n 6   SEVERITYDESC     222580 non-null  object        \n 7   COLLISIONTYPE    195981 non-null  object        \n 8   PERSONCOUNT      222580 non-null  int64         \n 9   PEDCOUNT         222580 non-null  int64         \n 10  PEDCYLCOUNT      222580 non-null  int64         \n 11  VEHCOUNT         222580 non-null  int64         \n 12  INJURIES         222580 non-null  int64         \n 13  SERIOUSINJURIES  222580 non-null  int64         \n 14  FATALITIES       222580 non-null  int64         \n 15  INCDTTM          222580 non-null  datetime64[ns]\n 16  JUNCTIONTYPE     210579 non-null  object        \n 17  UNDERINFL        196001 non-null  object        \n 18  WEATHER          195790 non-null  object        \n 19  ROADCOND         195871 non-null  object        \n 20  LIGHTCOND        195701 non-null  object        \n 21  HITPARKEDCAR     222580 non-null  object        \n 22  YEAR             222580 non-null  int64         \n 23  MONTH            222580 non-null  int64         \ndtypes: datetime64[ns](1), float64(2), int64(10), object(11)\nmemory usage: 42.5+ MB\n\n The dataset has 222580 records and 24 collumns (target variable and attributes).\n"
                }
            ],
            "source": "collisions_raw.info()\nprint(\"\\n The dataset has\", collisions_raw.shape[0],\"records and\", collisions_raw.shape[1], \"collumns (target variable and attributes).\")"
        },
        {
            "cell_type": "markdown",
            "metadata": {},
            "source": "### 3.4 Exploratory Data Analysis"
        },
        {
            "cell_type": "markdown",
            "metadata": {},
            "source": ""
        },
        {
            "cell_type": "code",
            "execution_count": null,
            "metadata": {},
            "outputs": [],
            "source": ""
        },
        {
            "cell_type": "code",
            "execution_count": null,
            "metadata": {},
            "outputs": [],
            "source": ""
        },
        {
            "cell_type": "code",
            "execution_count": null,
            "metadata": {},
            "outputs": [],
            "source": ""
        },
        {
            "cell_type": "code",
            "execution_count": null,
            "metadata": {},
            "outputs": [],
            "source": ""
        },
        {
            "cell_type": "code",
            "execution_count": null,
            "metadata": {},
            "outputs": [],
            "source": ""
        },
        {
            "cell_type": "code",
            "execution_count": null,
            "metadata": {},
            "outputs": [],
            "source": ""
        },
        {
            "cell_type": "code",
            "execution_count": null,
            "metadata": {},
            "outputs": [],
            "source": ""
        },
        {
            "cell_type": "code",
            "execution_count": null,
            "metadata": {},
            "outputs": [],
            "source": ""
        },
        {
            "cell_type": "code",
            "execution_count": null,
            "metadata": {},
            "outputs": [],
            "source": ""
        },
        {
            "cell_type": "code",
            "execution_count": null,
            "metadata": {},
            "outputs": [],
            "source": ""
        },
        {
            "cell_type": "markdown",
            "metadata": {},
            "source": "\n"
        },
        {
            "cell_type": "markdown",
            "metadata": {},
            "source": "\n\nWe will use the Cross-Industry Standard Process for Data Mining (CRISP-DM) which consist of the following steps:\n\n1. **Business Understanding:** The initial phase is to understand the project's objective from the business or application perspective. We talked about it in section 1 of this project.\n\n1. **Data understanding:** We discused this phase on the section 2 of this document. We downloaded the dataset, filtered the attributes (columns) and made some exploratory data analysis.\n\n1. **Data Preparation:** The data preparation includes all the required activities to construct the final dataset which will be fed into the modeling tools. Data preparation includes balancing the labeled data, transformation, filling missing data, and cleaning the dataset.\n\n1. **Modeling:** In this phase, various algorithms and methods will be tested to build the model including supervised machine learning techniques. \n\n1. **Evaluation:** Before proceeding to the deployment stage, the model needs to be evaluated thoroughly to ensure that the business or the application's objectives are achieved. Certain metrics can be used for the model evaluation such as accuracy, recall, F1-score, precision, and others.\n\n1. **Deployment:** The deployment phase requirements vary from project to project. It can be as simple as creating a report, developing interactive visualization, or making the machine learning model available in the production environment. **This step is out of scope of this project.**"
        },
        {
            "cell_type": "markdown",
            "metadata": {},
            "source": "### 3.1 Data Preparation"
        },
        {
            "cell_type": "markdown",
            "metadata": {},
            "source": "#### 3.1.2 Cleaning the data"
        },
        {
            "cell_type": "code",
            "execution_count": null,
            "metadata": {},
            "outputs": [],
            "source": "#Checking columns types and data shape\ncollisions.info()\nprint(\"\\n The dataset has\", collisions.shape[0],\"records and\", collisions.shape[1], \"collumns (target variable and attributes).\")"
        },
        {
            "cell_type": "code",
            "execution_count": null,
            "metadata": {},
            "outputs": [],
            "source": "#Checking how many missing values are there\ncollisions.isna().sum().to_frame()"
        },
        {
            "cell_type": "code",
            "execution_count": null,
            "metadata": {},
            "outputs": [],
            "source": "collisions_raw.dropna(inplace=True) #Deleting records with missing data"
        },
        {
            "cell_type": "code",
            "execution_count": null,
            "metadata": {},
            "outputs": [],
            "source": "#Checking the unique values of some attributes just to see if we have something wrong.\nfor i in collisions.columns:\n    print(i, collisions[i].unique(),'\\n')"
        },
        {
            "cell_type": "code",
            "execution_count": null,
            "metadata": {},
            "outputs": [],
            "source": "collisions['LIGHTCOND'].value_counts().to_frame()"
        },
        {
            "cell_type": "code",
            "execution_count": null,
            "metadata": {},
            "outputs": [],
            "source": "#Some attributes have values like \"Unknown\" or \"Other\" that do not help us. We will delete records that contain these values.\ncollisions = collisions.drop(collisions[(collisions['COLLISIONTYPE'] == \"Other\") | \n                                        (collisions['JUNCTIONTYPE'] == \"Unknown\") | \n                                        (collisions['WEATHER'] == \"Other\") | \n                                        (collisions['WEATHER'] == \"Unknown\") |\n                                        (collisions['ROADCOND'] == \"Other\") | \n                                        (collisions['ROADCOND'] == \"Unknown\") |\n                                        (collisions['LIGHTCOND'] == \"Other\") |\n                                        (collisions['LIGHTCOND'] == \"Unknown\")].index)\n\n#Fixing the attribute UNDERINFL for use only zeros and ones.\n\ncollisions['UNDERINFL'].replace(\"N\",\"0\",inplace=True)\ncollisions['UNDERINFL'].replace(\"Y\",\"1\",inplace=True)\ncollisions['UNDERINFL'] = collisions['UNDERINFL'].astype('int') #changing the attribute type for integer\n\n#The information bellow is the same. Let's join then.\ncollisions['LIGHTCOND'] = collisions['LIGHTCOND'].replace(\"Dark - Street Lights Off\", \"Dark - No Street Lights\")\n\n#Dropping the 'Dark - Unknown Lighting' in attribute 'LIGHTCOND'. There are only a few records and this information doesnt help so much.\ncollisions = collisions.drop(collisions[(collisions['LIGHTCOND'] == \"Dark - Unknown Lighting\")].index)\n\nfor i in collisions.columns:\n    print(i, collisions[i].unique(),'\\n')\n\nprint(\"\\n The dataset now has\", collisions.shape[0],\"records and\", collisions.shape[1], \"collumns (target variable and attributes).\")"
        },
        {
            "cell_type": "markdown",
            "metadata": {},
            "source": "#### 3.1.3 Balancing the data"
        },
        {
            "cell_type": "markdown",
            "metadata": {},
            "source": "Our target variable is the attribute \"SEVERITYCODE\", which indicates the severity of the accident.  \nIn this datase we only have 2 types of severity: 1 - Property Damage Only Collision, 2 - Injury Collision.  \nIt's important to say that the attribute SEVERITYCODE is the same as the SEVERITYDESC. The only difference is that one is in numbers and the other is in categorical values."
        },
        {
            "cell_type": "code",
            "execution_count": null,
            "metadata": {},
            "outputs": [],
            "source": "#Checking if the data is balanced\nsns.countplot(x=\"SEVERITYDESC\", data=collisions)\ncollisions['SEVERITYDESC'].value_counts()"
        },
        {
            "cell_type": "markdown",
            "metadata": {},
            "source": "As we could see above, there are twice as much \"Property Damage Only Collision\" data as \"Injury Collision\" data.  \nThis will causes a bias in the data results. So, we will need to equalize this data."
        },
        {
            "cell_type": "code",
            "execution_count": null,
            "metadata": {},
            "outputs": [],
            "source": "#You should have to install the Imballanced library before.\n!pip install -U imbalanced-learn"
        },
        {
            "cell_type": "code",
            "execution_count": null,
            "metadata": {},
            "outputs": [],
            "source": "from imblearn.under_sampling import RandomUnderSampler\n\nX = collisions[['X','Y','ADDRTYPE','SEVERITYDESC','COLLISIONTYPE','PERSONCOUNT',\n                'PEDCOUNT','PEDCYLCOUNT','VEHCOUNT','INCDTTM','JUNCTIONTYPE',\n                'UNDERINFL','WEATHER','ROADCOND','LIGHTCOND']]\ny = collisions[['SEVERITYCODE']]\nrus = RandomUnderSampler(random_state=0)\nX_res, y_res = rus.fit_resample(X,y)\n\ncollisions = X_res\ncollisions['SEVERITYCODE'] = y_res\n\nsns.countplot(x=\"SEVERITYDESC\", data=collisions)\ncollisions['SEVERITYDESC'].value_counts()"
        },
        {
            "cell_type": "markdown",
            "metadata": {},
            "source": "Now the data is balanced and we can continue to the next step."
        },
        {
            "cell_type": "markdown",
            "metadata": {},
            "source": "## 4 - Analysis <a name=\"analysis\"></a>"
        },
        {
            "cell_type": "code",
            "execution_count": null,
            "metadata": {},
            "outputs": [],
            "source": "# [WORKING IN PROGRESS]\n# perform some basic explanatory data analysis and derive some additional info from our raw data."
        },
        {
            "cell_type": "markdown",
            "metadata": {},
            "source": "As we have already made some changes to the data set (we exclude bad records and balance the data), this analysis will not focus on making a complex understanding of the data.  \nThe purpose of this analysis is to identify the attributes that contribute to a satisfactory machine learning algorithm."
        },
        {
            "cell_type": "code",
            "execution_count": null,
            "metadata": {},
            "outputs": [],
            "source": "fig, axs = plt.subplots(ncols=3, nrows=3, figsize=(24,12))\nplt.subplots_adjust(hspace = 0.8, wspace=0.8)\nsns.countplot(y=\"ADDRTYPE\", hue=\"severity\", data=colData, ax=axs[0, 0])\nsns.countplot(y=\"COLLISIONTYPE\", hue=\"severity\", data=colData, ax=axs[1, 0])\nsns.countplot(y=\"JUNCTIONTYPE\", hue=\"severity\", data=colData, ax=axs[2, 0])\nsns.countplot(y=\"WEATHER\", hue=\"severity\", data=colData, ax=axs[0, 1])\nsns.countplot(y=\"ROADCOND\", hue=\"severity\", data=colData, ax=axs[1, 1])\nsns.countplot(y=\"LIGHTCOND\", hue=\"severity\", data=colData, ax=axs[2, 1])\nsns.countplot(y=\"SPEEDING\", hue=\"severity\", data=colData, ax=axs[0, 2])\nsns.countplot(y=\"UNDERINFL\", hue=\"severity\", data=colData, ax=axs[1, 2])\nsns.countplot(y=\"INATTENTIONIND\", hue=\"severity\", data=colData, ax=axs[2, 2])\n\n\nsns.countplot(x=\"SEVERITYDESC\", data=collisions)\n\n\nX = collisions[['X','Y','ADDRTYPE','SEVERITYDESC','COLLISIONTYPE','PERSONCOUNT',\n                'PEDCOUNT','PEDCYLCOUNT','VEHCOUNT','INCDTTM','JUNCTIONTYPE',\n                'UNDERINFL','WEATHER','ROADCOND','LIGHTCOND']]\ny = collisions[['SEVERITYCODE']]"
        },
        {
            "cell_type": "markdown",
            "metadata": {},
            "source": "#### Analysing the attribute ADDRTYPE:"
        },
        {
            "cell_type": "code",
            "execution_count": null,
            "metadata": {},
            "outputs": [],
            "source": "sns.countplot(y=\"ADDRTYPE\", hue=\"SEVERITYDESC\", data=collisions)"
        },
        {
            "cell_type": "code",
            "execution_count": null,
            "metadata": {},
            "outputs": [],
            "source": "df_grouped_addrtype = collisions.groupby(['ADDRTYPE'])['SEVERITYDESC'].value_counts().to_frame(name='TOTAL')\ndf_grouped_addrtype"
        },
        {
            "cell_type": "markdown",
            "metadata": {},
            "source": "There are almost twice accidents with property damage on blocks than intersections.  \nThe number of accidents with injury collision are similar for these two types of address type."
        },
        {
            "cell_type": "code",
            "execution_count": null,
            "metadata": {},
            "outputs": [],
            "source": ""
        },
        {
            "cell_type": "code",
            "execution_count": null,
            "metadata": {},
            "outputs": [],
            "source": "sns.countplot(y=\"COLLISIONTYPE\", hue=\"SEVERITYDESC\", data=collisions)"
        },
        {
            "cell_type": "code",
            "execution_count": null,
            "metadata": {},
            "outputs": [],
            "source": "sns.countplot(y=\"JUNCTIONTYPE\", hue=\"SEVERITYDESC\", data=collisions)"
        },
        {
            "cell_type": "code",
            "execution_count": null,
            "metadata": {},
            "outputs": [],
            "source": "sns.countplot(y=\"UNDERINFL\", hue=\"SEVERITYDESC\", data=collisions)"
        },
        {
            "cell_type": "code",
            "execution_count": null,
            "metadata": {},
            "outputs": [],
            "source": "sns.countplot(y=\"WEATHER\", hue=\"SEVERITYDESC\", data=collisions)"
        },
        {
            "cell_type": "code",
            "execution_count": null,
            "metadata": {},
            "outputs": [],
            "source": "sns.countplot(y=\"ROADCOND\", hue=\"SEVERITYDESC\", data=collisions)"
        },
        {
            "cell_type": "code",
            "execution_count": null,
            "metadata": {},
            "outputs": [],
            "source": "sns.countplot(y=\"LIGHTCOND\", hue=\"SEVERITYDESC\", data=collisions)"
        },
        {
            "cell_type": "code",
            "execution_count": null,
            "metadata": {},
            "outputs": [],
            "source": "sns.countplot(y=\"\", hue=\"SEVERITYDESC\", data=collisions)"
        },
        {
            "cell_type": "code",
            "execution_count": null,
            "metadata": {},
            "outputs": [],
            "source": "sns.countplot(y=\"\", hue=\"SEVERITYDESC\", data=collisions)"
        },
        {
            "cell_type": "code",
            "execution_count": null,
            "metadata": {},
            "outputs": [],
            "source": "sns.countplot(y=\"\", hue=\"SEVERITYDESC\", data=collisions)"
        },
        {
            "cell_type": "markdown",
            "metadata": {},
            "source": "## 5 - Results and Discussion <a name=\"results\"></a>"
        },
        {
            "cell_type": "code",
            "execution_count": null,
            "metadata": {},
            "outputs": [],
            "source": "# [WORKING IN PROGRESS]\n# Results -> section where you discuss the results.\n# Discussion -> section where you discuss any observations you noted and any recommendations you can make based on the results."
        },
        {
            "cell_type": "markdown",
            "metadata": {},
            "source": "## 6 - Conclusion <a name=\"final\"></a>"
        },
        {
            "cell_type": "code",
            "execution_count": null,
            "metadata": {},
            "outputs": [],
            "source": "# [WORKING IN PROGRESS]\n# section where you conclude the report"
        },
        {
            "cell_type": "code",
            "execution_count": null,
            "metadata": {},
            "outputs": [],
            "source": ""
        }
    ],
    "metadata": {
        "kernelspec": {
            "display_name": "Python 3.7",
            "language": "python",
            "name": "python3"
        },
        "language_info": {
            "codemirror_mode": {
                "name": "ipython",
                "version": 3
            },
            "file_extension": ".py",
            "mimetype": "text/x-python",
            "name": "python",
            "nbconvert_exporter": "python",
            "pygments_lexer": "ipython3",
            "version": "3.7.9"
        }
    },
    "nbformat": 4,
    "nbformat_minor": 1
}